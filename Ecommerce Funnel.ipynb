{
    "metadata": {
        "kernelspec": {
            "name": "python3",
            "display_name": "Python 3",
            "language": "python"
        },
        "language_info": {
            "name": "python",
            "version": "3.8.6",
            "mimetype": "text/x-python",
            "codemirror_mode": {
                "name": "ipython",
                "version": 3
            },
            "pygments_lexer": "ipython3",
            "nbconvert_exporter": "python",
            "file_extension": ".py"
        }
    },
    "nbformat_minor": 2,
    "nbformat": 4,
    "cells": [
        {
            "cell_type": "code",
            "source": [
                "import numpy as np \n",
                "import pandas as pd\n",
                "from plotly import graph_objects as go\n",
                "import plotly.express as px\n",
                "import calendar"
            ],
            "metadata": {
                "azdata_cell_guid": "6c74b9df-86d8-4f06-83ca-cdc9085403c4",
                "tags": []
            },
            "outputs": [],
            "execution_count": 182
        },
        {
            "cell_type": "code",
            "source": [
                "home = pd.read_csv('https://github.com/jerometanel/Ecommerce-Funnel-EDA/blob/main/home_page_table.csv?raw=true')\n",
                "search = pd.read_csv('https://github.com/jerometanel/Ecommerce-Funnel-EDA/blob/main/search_page_table.csv?raw=true')\n",
                "payment = pd.read_csv('https://github.com/jerometanel/Ecommerce-Funnel-EDA/blob/main/payment_page_table.csv?raw=true')\n",
                "confirmation = pd.read_csv('https://github.com/jerometanel/Ecommerce-Funnel-EDA/blob/main/payment_confirmation_table.csv?raw=true')\n",
                "user = pd.read_csv('https://github.com/jerometanel/Ecommerce-Funnel-EDA/blob/main/user_table.csv?raw=true')"
            ],
            "metadata": {
                "azdata_cell_guid": "b135f4f5-54cd-499e-a82a-817aff8c732a",
                "tags": []
            },
            "outputs": [],
            "execution_count": 183
        },
        {
            "cell_type": "markdown",
            "source": [
                "## **Count of Visitors on Each Page**"
            ],
            "metadata": {
                "azdata_cell_guid": "68a17624-15cb-452d-af27-5f6d79621f5d"
            }
        },
        {
            "cell_type": "code",
            "source": [
                "# count user_id of each page to display the sum of visitors to each page\n",
                "\n",
                "page_count = pd.DataFrame([['Home', home['user_id'].count()],\n",
                "                            ['Search', search['user_id'].count()],\n",
                "                            ['Payment', payment['user_id'].count()],\n",
                "                            ['Confirmation', confirmation['user_id'].count()]],\n",
                "                            columns = ['Step', 'Count'])\n",
                "\n",
                "page_count"
            ],
            "metadata": {
                "azdata_cell_guid": "c3c6e7e0-dceb-4c37-a641-a8801f50c75d",
                "tags": []
            },
            "outputs": [
                {
                    "data": {
                        "text/plain": "           Step  Count\n0          Home  90400\n1        Search  45200\n2       Payment   6030\n3  Confirmation    452",
                        "text/html": "<div>\n<style scoped>\n    .dataframe tbody tr th:only-of-type {\n        vertical-align: middle;\n    }\n\n    .dataframe tbody tr th {\n        vertical-align: top;\n    }\n\n    .dataframe thead th {\n        text-align: right;\n    }\n</style>\n<table border=\"1\" class=\"dataframe\">\n  <thead>\n    <tr style=\"text-align: right;\">\n      <th></th>\n      <th>Step</th>\n      <th>Count</th>\n    </tr>\n  </thead>\n  <tbody>\n    <tr>\n      <th>0</th>\n      <td>Home</td>\n      <td>90400</td>\n    </tr>\n    <tr>\n      <th>1</th>\n      <td>Search</td>\n      <td>45200</td>\n    </tr>\n    <tr>\n      <th>2</th>\n      <td>Payment</td>\n      <td>6030</td>\n    </tr>\n    <tr>\n      <th>3</th>\n      <td>Confirmation</td>\n      <td>452</td>\n    </tr>\n  </tbody>\n</table>\n</div>"
                    },
                    "metadata": {},
                    "execution_count": 184,
                    "output_type": "execute_result"
                }
            ],
            "execution_count": 184
        },
        {
            "cell_type": "markdown",
            "source": [
                "## **Visualising Count of Visitors by Funnel Analysis**"
            ],
            "metadata": {
                "azdata_cell_guid": "80a14954-1f13-484a-9182-8a587725e3e5"
            }
        },
        {
            "cell_type": "code",
            "source": [
                "# visualising funnel with graph_objects\n",
                "\n",
                "fig = go.Figure(go.Funnel(\n",
                "    y = ['Home', 'Search', 'Payment', 'Confirmation'],\n",
                "    x = [90400, 45200, 6030, 425],\n",
                "    textposition = 'outside',\n",
                "    textinfo = 'value + percent initial'))\n",
                "\n",
                "fig.show()"
            ],
            "metadata": {
                "azdata_cell_guid": "d6e80299-5b9a-4c82-b8c8-ce1f2ee26527"
            },
            "outputs": [
                {
                    "data": {
                        "application/vnd.plotly.v1+json": {
                            "config": {
                                "plotlyServerURL": "https://plot.ly"
                            },
                            "data": [
                                {
                                    "textinfo": "value+percent initial",
                                    "textposition": "outside",
                                    "type": "funnel",
                                    "x": [
                                        90400,
                                        45200,
                                        6030,
                                        425
                                    ],
                                    "y": [
                                        "Home",
                                        "Search",
                                        "Payment",
                                        "Confirmation"
                                    ]
                                }
                            ],
                            "layout": {
                                "template": {
                                    "data": {
                                        "bar": [
                                            {
                                                "error_x": {
                                                    "color": "#2a3f5f"
                                                },
                                                "error_y": {
                                                    "color": "#2a3f5f"
                                                },
                                                "marker": {
                                                    "line": {
                                                        "color": "#E5ECF6",
                                                        "width": 0.5
                                                    }
                                                },
                                                "type": "bar"
                                            }
                                        ],
                                        "barpolar": [
                                            {
                                                "marker": {
                                                    "line": {
                                                        "color": "#E5ECF6",
                                                        "width": 0.5
                                                    }
                                                },
                                                "type": "barpolar"
                                            }
                                        ],
                                        "carpet": [
                                            {
                                                "aaxis": {
                                                    "endlinecolor": "#2a3f5f",
                                                    "gridcolor": "white",
                                                    "linecolor": "white",
                                                    "minorgridcolor": "white",
                                                    "startlinecolor": "#2a3f5f"
                                                },
                                                "baxis": {
                                                    "endlinecolor": "#2a3f5f",
                                                    "gridcolor": "white",
                                                    "linecolor": "white",
                                                    "minorgridcolor": "white",
                                                    "startlinecolor": "#2a3f5f"
                                                },
                                                "type": "carpet"
                                            }
                                        ],
                                        "choropleth": [
                                            {
                                                "colorbar": {
                                                    "outlinewidth": 0,
                                                    "ticks": ""
                                                },
                                                "type": "choropleth"
                                            }
                                        ],
                                        "contour": [
                                            {
                                                "colorbar": {
                                                    "outlinewidth": 0,
                                                    "ticks": ""
                                                },
                                                "colorscale": [
                                                    [
                                                        0,
                                                        "#0d0887"
                                                    ],
                                                    [
                                                        0.1111111111111111,
                                                        "#46039f"
                                                    ],
                                                    [
                                                        0.2222222222222222,
                                                        "#7201a8"
                                                    ],
                                                    [
                                                        0.3333333333333333,
                                                        "#9c179e"
                                                    ],
                                                    [
                                                        0.4444444444444444,
                                                        "#bd3786"
                                                    ],
                                                    [
                                                        0.5555555555555556,
                                                        "#d8576b"
                                                    ],
                                                    [
                                                        0.6666666666666666,
                                                        "#ed7953"
                                                    ],
                                                    [
                                                        0.7777777777777778,
                                                        "#fb9f3a"
                                                    ],
                                                    [
                                                        0.8888888888888888,
                                                        "#fdca26"
                                                    ],
                                                    [
                                                        1,
                                                        "#f0f921"
                                                    ]
                                                ],
                                                "type": "contour"
                                            }
                                        ],
                                        "contourcarpet": [
                                            {
                                                "colorbar": {
                                                    "outlinewidth": 0,
                                                    "ticks": ""
                                                },
                                                "type": "contourcarpet"
                                            }
                                        ],
                                        "heatmap": [
                                            {
                                                "colorbar": {
                                                    "outlinewidth": 0,
                                                    "ticks": ""
                                                },
                                                "colorscale": [
                                                    [
                                                        0,
                                                        "#0d0887"
                                                    ],
                                                    [
                                                        0.1111111111111111,
                                                        "#46039f"
                                                    ],
                                                    [
                                                        0.2222222222222222,
                                                        "#7201a8"
                                                    ],
                                                    [
                                                        0.3333333333333333,
                                                        "#9c179e"
                                                    ],
                                                    [
                                                        0.4444444444444444,
                                                        "#bd3786"
                                                    ],
                                                    [
                                                        0.5555555555555556,
                                                        "#d8576b"
                                                    ],
                                                    [
                                                        0.6666666666666666,
                                                        "#ed7953"
                                                    ],
                                                    [
                                                        0.7777777777777778,
                                                        "#fb9f3a"
                                                    ],
                                                    [
                                                        0.8888888888888888,
                                                        "#fdca26"
                                                    ],
                                                    [
                                                        1,
                                                        "#f0f921"
                                                    ]
                                                ],
                                                "type": "heatmap"
                                            }
                                        ],
                                        "heatmapgl": [
                                            {
                                                "colorbar": {
                                                    "outlinewidth": 0,
                                                    "ticks": ""
                                                },
                                                "colorscale": [
                                                    [
                                                        0,
                                                        "#0d0887"
                                                    ],
                                                    [
                                                        0.1111111111111111,
                                                        "#46039f"
                                                    ],
                                                    [
                                                        0.2222222222222222,
                                                        "#7201a8"
                                                    ],
                                                    [
                                                        0.3333333333333333,
                                                        "#9c179e"
                                                    ],
                                                    [
                                                        0.4444444444444444,
                                                        "#bd3786"
                                                    ],
                                                    [
                                                        0.5555555555555556,
                                                        "#d8576b"
                                                    ],
                                                    [
                                                        0.6666666666666666,
                                                        "#ed7953"
                                                    ],
                                                    [
                                                        0.7777777777777778,
                                                        "#fb9f3a"
                                                    ],
                                                    [
                                                        0.8888888888888888,
                                                        "#fdca26"
                                                    ],
                                                    [
                                                        1,
                                                        "#f0f921"
                                                    ]
                                                ],
                                                "type": "heatmapgl"
                                            }
                                        ],
                                        "histogram": [
                                            {
                                                "marker": {
                                                    "colorbar": {
                                                        "outlinewidth": 0,
                                                        "ticks": ""
                                                    }
                                                },
                                                "type": "histogram"
                                            }
                                        ],
                                        "histogram2d": [
                                            {
                                                "colorbar": {
                                                    "outlinewidth": 0,
                                                    "ticks": ""
                                                },
                                                "colorscale": [
                                                    [
                                                        0,
                                                        "#0d0887"
                                                    ],
                                                    [
                                                        0.1111111111111111,
                                                        "#46039f"
                                                    ],
                                                    [
                                                        0.2222222222222222,
                                                        "#7201a8"
                                                    ],
                                                    [
                                                        0.3333333333333333,
                                                        "#9c179e"
                                                    ],
                                                    [
                                                        0.4444444444444444,
                                                        "#bd3786"
                                                    ],
                                                    [
                                                        0.5555555555555556,
                                                        "#d8576b"
                                                    ],
                                                    [
                                                        0.6666666666666666,
                                                        "#ed7953"
                                                    ],
                                                    [
                                                        0.7777777777777778,
                                                        "#fb9f3a"
                                                    ],
                                                    [
                                                        0.8888888888888888,
                                                        "#fdca26"
                                                    ],
                                                    [
                                                        1,
                                                        "#f0f921"
                                                    ]
                                                ],
                                                "type": "histogram2d"
                                            }
                                        ],
                                        "histogram2dcontour": [
                                            {
                                                "colorbar": {
                                                    "outlinewidth": 0,
                                                    "ticks": ""
                                                },
                                                "colorscale": [
                                                    [
                                                        0,
                                                        "#0d0887"
                                                    ],
                                                    [
                                                        0.1111111111111111,
                                                        "#46039f"
                                                    ],
                                                    [
                                                        0.2222222222222222,
                                                        "#7201a8"
                                                    ],
                                                    [
                                                        0.3333333333333333,
                                                        "#9c179e"
                                                    ],
                                                    [
                                                        0.4444444444444444,
                                                        "#bd3786"
                                                    ],
                                                    [
                                                        0.5555555555555556,
                                                        "#d8576b"
                                                    ],
                                                    [
                                                        0.6666666666666666,
                                                        "#ed7953"
                                                    ],
                                                    [
                                                        0.7777777777777778,
                                                        "#fb9f3a"
                                                    ],
                                                    [
                                                        0.8888888888888888,
                                                        "#fdca26"
                                                    ],
                                                    [
                                                        1,
                                                        "#f0f921"
                                                    ]
                                                ],
                                                "type": "histogram2dcontour"
                                            }
                                        ],
                                        "mesh3d": [
                                            {
                                                "colorbar": {
                                                    "outlinewidth": 0,
                                                    "ticks": ""
                                                },
                                                "type": "mesh3d"
                                            }
                                        ],
                                        "parcoords": [
                                            {
                                                "line": {
                                                    "colorbar": {
                                                        "outlinewidth": 0,
                                                        "ticks": ""
                                                    }
                                                },
                                                "type": "parcoords"
                                            }
                                        ],
                                        "pie": [
                                            {
                                                "automargin": true,
                                                "type": "pie"
                                            }
                                        ],
                                        "scatter": [
                                            {
                                                "marker": {
                                                    "colorbar": {
                                                        "outlinewidth": 0,
                                                        "ticks": ""
                                                    }
                                                },
                                                "type": "scatter"
                                            }
                                        ],
                                        "scatter3d": [
                                            {
                                                "line": {
                                                    "colorbar": {
                                                        "outlinewidth": 0,
                                                        "ticks": ""
                                                    }
                                                },
                                                "marker": {
                                                    "colorbar": {
                                                        "outlinewidth": 0,
                                                        "ticks": ""
                                                    }
                                                },
                                                "type": "scatter3d"
                                            }
                                        ],
                                        "scattercarpet": [
                                            {
                                                "marker": {
                                                    "colorbar": {
                                                        "outlinewidth": 0,
                                                        "ticks": ""
                                                    }
                                                },
                                                "type": "scattercarpet"
                                            }
                                        ],
                                        "scattergeo": [
                                            {
                                                "marker": {
                                                    "colorbar": {
                                                        "outlinewidth": 0,
                                                        "ticks": ""
                                                    }
                                                },
                                                "type": "scattergeo"
                                            }
                                        ],
                                        "scattergl": [
                                            {
                                                "marker": {
                                                    "colorbar": {
                                                        "outlinewidth": 0,
                                                        "ticks": ""
                                                    }
                                                },
                                                "type": "scattergl"
                                            }
                                        ],
                                        "scattermapbox": [
                                            {
                                                "marker": {
                                                    "colorbar": {
                                                        "outlinewidth": 0,
                                                        "ticks": ""
                                                    }
                                                },
                                                "type": "scattermapbox"
                                            }
                                        ],
                                        "scatterpolar": [
                                            {
                                                "marker": {
                                                    "colorbar": {
                                                        "outlinewidth": 0,
                                                        "ticks": ""
                                                    }
                                                },
                                                "type": "scatterpolar"
                                            }
                                        ],
                                        "scatterpolargl": [
                                            {
                                                "marker": {
                                                    "colorbar": {
                                                        "outlinewidth": 0,
                                                        "ticks": ""
                                                    }
                                                },
                                                "type": "scatterpolargl"
                                            }
                                        ],
                                        "scatterternary": [
                                            {
                                                "marker": {
                                                    "colorbar": {
                                                        "outlinewidth": 0,
                                                        "ticks": ""
                                                    }
                                                },
                                                "type": "scatterternary"
                                            }
                                        ],
                                        "surface": [
                                            {
                                                "colorbar": {
                                                    "outlinewidth": 0,
                                                    "ticks": ""
                                                },
                                                "colorscale": [
                                                    [
                                                        0,
                                                        "#0d0887"
                                                    ],
                                                    [
                                                        0.1111111111111111,
                                                        "#46039f"
                                                    ],
                                                    [
                                                        0.2222222222222222,
                                                        "#7201a8"
                                                    ],
                                                    [
                                                        0.3333333333333333,
                                                        "#9c179e"
                                                    ],
                                                    [
                                                        0.4444444444444444,
                                                        "#bd3786"
                                                    ],
                                                    [
                                                        0.5555555555555556,
                                                        "#d8576b"
                                                    ],
                                                    [
                                                        0.6666666666666666,
                                                        "#ed7953"
                                                    ],
                                                    [
                                                        0.7777777777777778,
                                                        "#fb9f3a"
                                                    ],
                                                    [
                                                        0.8888888888888888,
                                                        "#fdca26"
                                                    ],
                                                    [
                                                        1,
                                                        "#f0f921"
                                                    ]
                                                ],
                                                "type": "surface"
                                            }
                                        ],
                                        "table": [
                                            {
                                                "cells": {
                                                    "fill": {
                                                        "color": "#EBF0F8"
                                                    },
                                                    "line": {
                                                        "color": "white"
                                                    }
                                                },
                                                "header": {
                                                    "fill": {
                                                        "color": "#C8D4E3"
                                                    },
                                                    "line": {
                                                        "color": "white"
                                                    }
                                                },
                                                "type": "table"
                                            }
                                        ]
                                    },
                                    "layout": {
                                        "annotationdefaults": {
                                            "arrowcolor": "#2a3f5f",
                                            "arrowhead": 0,
                                            "arrowwidth": 1
                                        },
                                        "coloraxis": {
                                            "colorbar": {
                                                "outlinewidth": 0,
                                                "ticks": ""
                                            }
                                        },
                                        "colorscale": {
                                            "diverging": [
                                                [
                                                    0,
                                                    "#8e0152"
                                                ],
                                                [
                                                    0.1,
                                                    "#c51b7d"
                                                ],
                                                [
                                                    0.2,
                                                    "#de77ae"
                                                ],
                                                [
                                                    0.3,
                                                    "#f1b6da"
                                                ],
                                                [
                                                    0.4,
                                                    "#fde0ef"
                                                ],
                                                [
                                                    0.5,
                                                    "#f7f7f7"
                                                ],
                                                [
                                                    0.6,
                                                    "#e6f5d0"
                                                ],
                                                [
                                                    0.7,
                                                    "#b8e186"
                                                ],
                                                [
                                                    0.8,
                                                    "#7fbc41"
                                                ],
                                                [
                                                    0.9,
                                                    "#4d9221"
                                                ],
                                                [
                                                    1,
                                                    "#276419"
                                                ]
                                            ],
                                            "sequential": [
                                                [
                                                    0,
                                                    "#0d0887"
                                                ],
                                                [
                                                    0.1111111111111111,
                                                    "#46039f"
                                                ],
                                                [
                                                    0.2222222222222222,
                                                    "#7201a8"
                                                ],
                                                [
                                                    0.3333333333333333,
                                                    "#9c179e"
                                                ],
                                                [
                                                    0.4444444444444444,
                                                    "#bd3786"
                                                ],
                                                [
                                                    0.5555555555555556,
                                                    "#d8576b"
                                                ],
                                                [
                                                    0.6666666666666666,
                                                    "#ed7953"
                                                ],
                                                [
                                                    0.7777777777777778,
                                                    "#fb9f3a"
                                                ],
                                                [
                                                    0.8888888888888888,
                                                    "#fdca26"
                                                ],
                                                [
                                                    1,
                                                    "#f0f921"
                                                ]
                                            ],
                                            "sequentialminus": [
                                                [
                                                    0,
                                                    "#0d0887"
                                                ],
                                                [
                                                    0.1111111111111111,
                                                    "#46039f"
                                                ],
                                                [
                                                    0.2222222222222222,
                                                    "#7201a8"
                                                ],
                                                [
                                                    0.3333333333333333,
                                                    "#9c179e"
                                                ],
                                                [
                                                    0.4444444444444444,
                                                    "#bd3786"
                                                ],
                                                [
                                                    0.5555555555555556,
                                                    "#d8576b"
                                                ],
                                                [
                                                    0.6666666666666666,
                                                    "#ed7953"
                                                ],
                                                [
                                                    0.7777777777777778,
                                                    "#fb9f3a"
                                                ],
                                                [
                                                    0.8888888888888888,
                                                    "#fdca26"
                                                ],
                                                [
                                                    1,
                                                    "#f0f921"
                                                ]
                                            ]
                                        },
                                        "colorway": [
                                            "#636efa",
                                            "#EF553B",
                                            "#00cc96",
                                            "#ab63fa",
                                            "#FFA15A",
                                            "#19d3f3",
                                            "#FF6692",
                                            "#B6E880",
                                            "#FF97FF",
                                            "#FECB52"
                                        ],
                                        "font": {
                                            "color": "#2a3f5f"
                                        },
                                        "geo": {
                                            "bgcolor": "white",
                                            "lakecolor": "white",
                                            "landcolor": "#E5ECF6",
                                            "showlakes": true,
                                            "showland": true,
                                            "subunitcolor": "white"
                                        },
                                        "hoverlabel": {
                                            "align": "left"
                                        },
                                        "hovermode": "closest",
                                        "mapbox": {
                                            "style": "light"
                                        },
                                        "paper_bgcolor": "white",
                                        "plot_bgcolor": "#E5ECF6",
                                        "polar": {
                                            "angularaxis": {
                                                "gridcolor": "white",
                                                "linecolor": "white",
                                                "ticks": ""
                                            },
                                            "bgcolor": "#E5ECF6",
                                            "radialaxis": {
                                                "gridcolor": "white",
                                                "linecolor": "white",
                                                "ticks": ""
                                            }
                                        },
                                        "scene": {
                                            "xaxis": {
                                                "backgroundcolor": "#E5ECF6",
                                                "gridcolor": "white",
                                                "gridwidth": 2,
                                                "linecolor": "white",
                                                "showbackground": true,
                                                "ticks": "",
                                                "zerolinecolor": "white"
                                            },
                                            "yaxis": {
                                                "backgroundcolor": "#E5ECF6",
                                                "gridcolor": "white",
                                                "gridwidth": 2,
                                                "linecolor": "white",
                                                "showbackground": true,
                                                "ticks": "",
                                                "zerolinecolor": "white"
                                            },
                                            "zaxis": {
                                                "backgroundcolor": "#E5ECF6",
                                                "gridcolor": "white",
                                                "gridwidth": 2,
                                                "linecolor": "white",
                                                "showbackground": true,
                                                "ticks": "",
                                                "zerolinecolor": "white"
                                            }
                                        },
                                        "shapedefaults": {
                                            "line": {
                                                "color": "#2a3f5f"
                                            }
                                        },
                                        "ternary": {
                                            "aaxis": {
                                                "gridcolor": "white",
                                                "linecolor": "white",
                                                "ticks": ""
                                            },
                                            "baxis": {
                                                "gridcolor": "white",
                                                "linecolor": "white",
                                                "ticks": ""
                                            },
                                            "bgcolor": "#E5ECF6",
                                            "caxis": {
                                                "gridcolor": "white",
                                                "linecolor": "white",
                                                "ticks": ""
                                            }
                                        },
                                        "title": {
                                            "x": 0.05
                                        },
                                        "xaxis": {
                                            "automargin": true,
                                            "gridcolor": "white",
                                            "linecolor": "white",
                                            "ticks": "",
                                            "title": {
                                                "standoff": 15
                                            },
                                            "zerolinecolor": "white",
                                            "zerolinewidth": 2
                                        },
                                        "yaxis": {
                                            "automargin": true,
                                            "gridcolor": "white",
                                            "linecolor": "white",
                                            "ticks": "",
                                            "title": {
                                                "standoff": 15
                                            },
                                            "zerolinecolor": "white",
                                            "zerolinewidth": 2
                                        }
                                    }
                                }
                            }
                        }
                    },
                    "metadata": {},
                    "output_type": "display_data"
                }
            ],
            "execution_count": 185
        },
        {
            "cell_type": "markdown",
            "source": [
                "## **Merge Tables**"
            ],
            "metadata": {
                "azdata_cell_guid": "b87d832e-21ae-45a9-b037-001fdf4ae5aa"
            }
        },
        {
            "cell_type": "code",
            "source": [
                "# renaming columns in original datasets \n",
                "\n",
                "home = home.rename(columns = {'home_page':'Home'})\n",
                "search = search.rename(columns = {'search_page':'Search'})\n",
                "payment = payment.rename(columns = {'payment_page':'Payment'})\n",
                "confirmation = confirmation.rename(columns = {'payment_confirmation_page':'Confirmation'})\n",
                ""
            ],
            "metadata": {
                "azdata_cell_guid": "434c3982-ec29-4a95-8983-db00ee9d9a43",
                "tags": []
            },
            "outputs": [],
            "execution_count": 186
        },
        {
            "cell_type": "code",
            "source": [
                "# merge all the tables\n",
                "\n",
                "flow = user.merge(home, how = 'outer', on = 'user_id').merge(search, \n",
                "                        how = 'outer', on = 'user_id').merge(payment, \n",
                "                        how = 'outer', on = 'user_id').merge(confirmation, \n",
                "                        how = 'outer', on = 'user_id')\n",
                "\n",
                "flow.head()"
            ],
            "metadata": {
                "azdata_cell_guid": "db14e7eb-064a-4e6a-aede-c606a7c30376",
                "tags": []
            },
            "outputs": [
                {
                    "data": {
                        "text/plain": "   user_id        date   device     sex       Home       Search Payment  \\\n0   450007  2015-02-28  Desktop  Female  home_page          NaN     NaN   \n1   756838  2015-01-13  Desktop    Male  home_page          NaN     NaN   \n2   568983  2015-04-09  Desktop    Male  home_page  search_page     NaN   \n3   190794  2015-02-18  Desktop  Female  home_page  search_page     NaN   \n4   537909  2015-01-15  Desktop    Male  home_page          NaN     NaN   \n\n  Confirmation  \n0          NaN  \n1          NaN  \n2          NaN  \n3          NaN  \n4          NaN  ",
                        "text/html": "<div>\n<style scoped>\n    .dataframe tbody tr th:only-of-type {\n        vertical-align: middle;\n    }\n\n    .dataframe tbody tr th {\n        vertical-align: top;\n    }\n\n    .dataframe thead th {\n        text-align: right;\n    }\n</style>\n<table border=\"1\" class=\"dataframe\">\n  <thead>\n    <tr style=\"text-align: right;\">\n      <th></th>\n      <th>user_id</th>\n      <th>date</th>\n      <th>device</th>\n      <th>sex</th>\n      <th>Home</th>\n      <th>Search</th>\n      <th>Payment</th>\n      <th>Confirmation</th>\n    </tr>\n  </thead>\n  <tbody>\n    <tr>\n      <th>0</th>\n      <td>450007</td>\n      <td>2015-02-28</td>\n      <td>Desktop</td>\n      <td>Female</td>\n      <td>home_page</td>\n      <td>NaN</td>\n      <td>NaN</td>\n      <td>NaN</td>\n    </tr>\n    <tr>\n      <th>1</th>\n      <td>756838</td>\n      <td>2015-01-13</td>\n      <td>Desktop</td>\n      <td>Male</td>\n      <td>home_page</td>\n      <td>NaN</td>\n      <td>NaN</td>\n      <td>NaN</td>\n    </tr>\n    <tr>\n      <th>2</th>\n      <td>568983</td>\n      <td>2015-04-09</td>\n      <td>Desktop</td>\n      <td>Male</td>\n      <td>home_page</td>\n      <td>search_page</td>\n      <td>NaN</td>\n      <td>NaN</td>\n    </tr>\n    <tr>\n      <th>3</th>\n      <td>190794</td>\n      <td>2015-02-18</td>\n      <td>Desktop</td>\n      <td>Female</td>\n      <td>home_page</td>\n      <td>search_page</td>\n      <td>NaN</td>\n      <td>NaN</td>\n    </tr>\n    <tr>\n      <th>4</th>\n      <td>537909</td>\n      <td>2015-01-15</td>\n      <td>Desktop</td>\n      <td>Male</td>\n      <td>home_page</td>\n      <td>NaN</td>\n      <td>NaN</td>\n      <td>NaN</td>\n    </tr>\n  </tbody>\n</table>\n</div>"
                    },
                    "metadata": {},
                    "execution_count": 187,
                    "output_type": "execute_result"
                }
            ],
            "execution_count": 187
        },
        {
            "cell_type": "code",
            "source": [
                "# check info of dataset\n",
                "\n",
                "flow.info()"
            ],
            "metadata": {
                "azdata_cell_guid": "ded0f438-ef4c-47e7-9b5c-4c120ed1e3c8"
            },
            "outputs": [
                {
                    "name": "stdout",
                    "text": "<class 'pandas.core.frame.DataFrame'>\nInt64Index: 90400 entries, 0 to 90399\nData columns (total 8 columns):\n #   Column        Non-Null Count  Dtype \n---  ------        --------------  ----- \n 0   user_id       90400 non-null  int64 \n 1   date          90400 non-null  object\n 2   device        90400 non-null  object\n 3   sex           90400 non-null  object\n 4   Home          90400 non-null  object\n 5   Search        45200 non-null  object\n 6   Payment       6030 non-null   object\n 7   Confirmation  452 non-null    object\ndtypes: int64(1), object(7)\nmemory usage: 6.2+ MB\n",
                    "output_type": "stream"
                }
            ],
            "execution_count": 188
        },
        {
            "cell_type": "code",
            "source": [
                "# check number of unique user_id\n",
                "\n",
                "users = flow['user_id'].nunique()\n",
                "users"
            ],
            "metadata": {
                "azdata_cell_guid": "83f7a8f8-8623-475c-8f3c-2409ab9742e6",
                "tags": []
            },
            "outputs": [
                {
                    "data": {
                        "text/plain": "90400"
                    },
                    "metadata": {},
                    "execution_count": 189,
                    "output_type": "execute_result"
                }
            ],
            "execution_count": 189
        },
        {
            "cell_type": "markdown",
            "source": [
                "## **Discover Correlations**\n",
                "\n",
                "**Transforming categorical features**"
            ],
            "metadata": {
                "azdata_cell_guid": "4cd49c20-1d12-4514-899e-eab314dd6821"
            }
        },
        {
            "cell_type": "code",
            "source": [
                "# one hot encoding on all features : flow2\n",
                "\n",
                "flow2 = pd.get_dummies(data=flow, \n",
                "                        columns = ['device', 'sex', 'Home', 'Search', 'Payment', 'Confirmation'],\n",
                "                        dummy_na = False)\n",
                "    \n",
                "flow2.head()"
            ],
            "metadata": {
                "azdata_cell_guid": "2185c535-41a7-4a2c-a9c1-24b4098a474a",
                "tags": []
            },
            "outputs": [
                {
                    "data": {
                        "text/plain": "   user_id        date  device_Desktop  device_Mobile  sex_Female  sex_Male  \\\n0   450007  2015-02-28               1              0           1         0   \n1   756838  2015-01-13               1              0           0         1   \n2   568983  2015-04-09               1              0           0         1   \n3   190794  2015-02-18               1              0           1         0   \n4   537909  2015-01-15               1              0           0         1   \n\n   Home_home_page  Search_search_page  Payment_payment_page  \\\n0               1                   0                     0   \n1               1                   0                     0   \n2               1                   1                     0   \n3               1                   1                     0   \n4               1                   0                     0   \n\n   Confirmation_payment_confirmation_page  \n0                                       0  \n1                                       0  \n2                                       0  \n3                                       0  \n4                                       0  ",
                        "text/html": "<div>\n<style scoped>\n    .dataframe tbody tr th:only-of-type {\n        vertical-align: middle;\n    }\n\n    .dataframe tbody tr th {\n        vertical-align: top;\n    }\n\n    .dataframe thead th {\n        text-align: right;\n    }\n</style>\n<table border=\"1\" class=\"dataframe\">\n  <thead>\n    <tr style=\"text-align: right;\">\n      <th></th>\n      <th>user_id</th>\n      <th>date</th>\n      <th>device_Desktop</th>\n      <th>device_Mobile</th>\n      <th>sex_Female</th>\n      <th>sex_Male</th>\n      <th>Home_home_page</th>\n      <th>Search_search_page</th>\n      <th>Payment_payment_page</th>\n      <th>Confirmation_payment_confirmation_page</th>\n    </tr>\n  </thead>\n  <tbody>\n    <tr>\n      <th>0</th>\n      <td>450007</td>\n      <td>2015-02-28</td>\n      <td>1</td>\n      <td>0</td>\n      <td>1</td>\n      <td>0</td>\n      <td>1</td>\n      <td>0</td>\n      <td>0</td>\n      <td>0</td>\n    </tr>\n    <tr>\n      <th>1</th>\n      <td>756838</td>\n      <td>2015-01-13</td>\n      <td>1</td>\n      <td>0</td>\n      <td>0</td>\n      <td>1</td>\n      <td>1</td>\n      <td>0</td>\n      <td>0</td>\n      <td>0</td>\n    </tr>\n    <tr>\n      <th>2</th>\n      <td>568983</td>\n      <td>2015-04-09</td>\n      <td>1</td>\n      <td>0</td>\n      <td>0</td>\n      <td>1</td>\n      <td>1</td>\n      <td>1</td>\n      <td>0</td>\n      <td>0</td>\n    </tr>\n    <tr>\n      <th>3</th>\n      <td>190794</td>\n      <td>2015-02-18</td>\n      <td>1</td>\n      <td>0</td>\n      <td>1</td>\n      <td>0</td>\n      <td>1</td>\n      <td>1</td>\n      <td>0</td>\n      <td>0</td>\n    </tr>\n    <tr>\n      <th>4</th>\n      <td>537909</td>\n      <td>2015-01-15</td>\n      <td>1</td>\n      <td>0</td>\n      <td>0</td>\n      <td>1</td>\n      <td>1</td>\n      <td>0</td>\n      <td>0</td>\n      <td>0</td>\n    </tr>\n  </tbody>\n</table>\n</div>"
                    },
                    "metadata": {},
                    "execution_count": 190,
                    "output_type": "execute_result"
                }
            ],
            "execution_count": 190
        },
        {
            "cell_type": "code",
            "source": [
                "# rename column names\n",
                "\n",
                "flow2.rename(columns={'Home_home_page' : 'Home',\n",
                "                        'Search_search_page' : 'Search',\n",
                "                        'Payment_payment_page' : 'Payment',\n",
                "                        'Confirmation_payment_confirmation_page' : 'Confirmation',\n",
                "                        'device_Desktop' : 'Desktop',\n",
                "                        'device_Mobile' : 'Mobile',\n",
                "                        'sex_Female' : 'Female',\n",
                "                        'sex_Male' : 'Male'}, inplace = True)\n",
                "\n",
                "flow2.head()"
            ],
            "metadata": {
                "azdata_cell_guid": "34fd67b5-84ca-4f3f-9782-62fc1475b49a"
            },
            "outputs": [
                {
                    "data": {
                        "text/plain": "   user_id        date  Desktop  Mobile  Female  Male  Home  Search  Payment  \\\n0   450007  2015-02-28        1       0       1     0     1       0        0   \n1   756838  2015-01-13        1       0       0     1     1       0        0   \n2   568983  2015-04-09        1       0       0     1     1       1        0   \n3   190794  2015-02-18        1       0       1     0     1       1        0   \n4   537909  2015-01-15        1       0       0     1     1       0        0   \n\n   Confirmation  \n0             0  \n1             0  \n2             0  \n3             0  \n4             0  ",
                        "text/html": "<div>\n<style scoped>\n    .dataframe tbody tr th:only-of-type {\n        vertical-align: middle;\n    }\n\n    .dataframe tbody tr th {\n        vertical-align: top;\n    }\n\n    .dataframe thead th {\n        text-align: right;\n    }\n</style>\n<table border=\"1\" class=\"dataframe\">\n  <thead>\n    <tr style=\"text-align: right;\">\n      <th></th>\n      <th>user_id</th>\n      <th>date</th>\n      <th>Desktop</th>\n      <th>Mobile</th>\n      <th>Female</th>\n      <th>Male</th>\n      <th>Home</th>\n      <th>Search</th>\n      <th>Payment</th>\n      <th>Confirmation</th>\n    </tr>\n  </thead>\n  <tbody>\n    <tr>\n      <th>0</th>\n      <td>450007</td>\n      <td>2015-02-28</td>\n      <td>1</td>\n      <td>0</td>\n      <td>1</td>\n      <td>0</td>\n      <td>1</td>\n      <td>0</td>\n      <td>0</td>\n      <td>0</td>\n    </tr>\n    <tr>\n      <th>1</th>\n      <td>756838</td>\n      <td>2015-01-13</td>\n      <td>1</td>\n      <td>0</td>\n      <td>0</td>\n      <td>1</td>\n      <td>1</td>\n      <td>0</td>\n      <td>0</td>\n      <td>0</td>\n    </tr>\n    <tr>\n      <th>2</th>\n      <td>568983</td>\n      <td>2015-04-09</td>\n      <td>1</td>\n      <td>0</td>\n      <td>0</td>\n      <td>1</td>\n      <td>1</td>\n      <td>1</td>\n      <td>0</td>\n      <td>0</td>\n    </tr>\n    <tr>\n      <th>3</th>\n      <td>190794</td>\n      <td>2015-02-18</td>\n      <td>1</td>\n      <td>0</td>\n      <td>1</td>\n      <td>0</td>\n      <td>1</td>\n      <td>1</td>\n      <td>0</td>\n      <td>0</td>\n    </tr>\n    <tr>\n      <th>4</th>\n      <td>537909</td>\n      <td>2015-01-15</td>\n      <td>1</td>\n      <td>0</td>\n      <td>0</td>\n      <td>1</td>\n      <td>1</td>\n      <td>0</td>\n      <td>0</td>\n      <td>0</td>\n    </tr>\n  </tbody>\n</table>\n</div>"
                    },
                    "metadata": {},
                    "execution_count": 191,
                    "output_type": "execute_result"
                }
            ],
            "execution_count": 191
        },
        {
            "cell_type": "code",
            "source": [
                "# overview of correlation\n",
                "\n",
                "flow2.corr().style.background_gradient(cmap='coolwarm')"
            ],
            "metadata": {
                "azdata_cell_guid": "26a4fe69-2a73-4a44-ace9-b6cf43bb58d7",
                "tags": []
            },
            "outputs": [
                {
                    "name": "stderr",
                    "text": "/Library/Frameworks/Python.framework/Versions/3.8/lib/python3.8/site-packages/pandas/io/formats/style.py:1126: RuntimeWarning:\n\nAll-NaN slice encountered\n\n/Library/Frameworks/Python.framework/Versions/3.8/lib/python3.8/site-packages/pandas/io/formats/style.py:1127: RuntimeWarning:\n\nAll-NaN slice encountered\n\n",
                    "output_type": "stream"
                },
                {
                    "data": {
                        "text/plain": "<pandas.io.formats.style.Styler at 0x7fc4ae6b1760>",
                        "text/html": "<style  type=\"text/css\" >\n#T_2332d982_84e1_11eb_b955_a683e7ab32c1row0_col0,#T_2332d982_84e1_11eb_b955_a683e7ab32c1row1_col1,#T_2332d982_84e1_11eb_b955_a683e7ab32c1row2_col2,#T_2332d982_84e1_11eb_b955_a683e7ab32c1row3_col3,#T_2332d982_84e1_11eb_b955_a683e7ab32c1row4_col4,#T_2332d982_84e1_11eb_b955_a683e7ab32c1row6_col6,#T_2332d982_84e1_11eb_b955_a683e7ab32c1row7_col7,#T_2332d982_84e1_11eb_b955_a683e7ab32c1row8_col8{\n            background-color:  #b40426;\n            color:  #f1f1f1;\n        }#T_2332d982_84e1_11eb_b955_a683e7ab32c1row0_col1,#T_2332d982_84e1_11eb_b955_a683e7ab32c1row0_col3,#T_2332d982_84e1_11eb_b955_a683e7ab32c1row1_col3,#T_2332d982_84e1_11eb_b955_a683e7ab32c1row2_col4,#T_2332d982_84e1_11eb_b955_a683e7ab32c1row3_col1,#T_2332d982_84e1_11eb_b955_a683e7ab32c1row4_col2,#T_2332d982_84e1_11eb_b955_a683e7ab32c1row6_col4,#T_2332d982_84e1_11eb_b955_a683e7ab32c1row8_col4{\n            background-color:  #dcdddd;\n            color:  #000000;\n        }#T_2332d982_84e1_11eb_b955_a683e7ab32c1row0_col2,#T_2332d982_84e1_11eb_b955_a683e7ab32c1row0_col4,#T_2332d982_84e1_11eb_b955_a683e7ab32c1row1_col4,#T_2332d982_84e1_11eb_b955_a683e7ab32c1row2_col3,#T_2332d982_84e1_11eb_b955_a683e7ab32c1row3_col2,#T_2332d982_84e1_11eb_b955_a683e7ab32c1row4_col1,#T_2332d982_84e1_11eb_b955_a683e7ab32c1row6_col1,#T_2332d982_84e1_11eb_b955_a683e7ab32c1row6_col2,#T_2332d982_84e1_11eb_b955_a683e7ab32c1row6_col3,#T_2332d982_84e1_11eb_b955_a683e7ab32c1row8_col3{\n            background-color:  #dddcdc;\n            color:  #000000;\n        }#T_2332d982_84e1_11eb_b955_a683e7ab32c1row0_col5,#T_2332d982_84e1_11eb_b955_a683e7ab32c1row1_col5,#T_2332d982_84e1_11eb_b955_a683e7ab32c1row2_col5,#T_2332d982_84e1_11eb_b955_a683e7ab32c1row3_col5,#T_2332d982_84e1_11eb_b955_a683e7ab32c1row4_col5,#T_2332d982_84e1_11eb_b955_a683e7ab32c1row5_col0,#T_2332d982_84e1_11eb_b955_a683e7ab32c1row5_col1,#T_2332d982_84e1_11eb_b955_a683e7ab32c1row5_col2,#T_2332d982_84e1_11eb_b955_a683e7ab32c1row5_col3,#T_2332d982_84e1_11eb_b955_a683e7ab32c1row5_col4,#T_2332d982_84e1_11eb_b955_a683e7ab32c1row5_col5,#T_2332d982_84e1_11eb_b955_a683e7ab32c1row5_col6,#T_2332d982_84e1_11eb_b955_a683e7ab32c1row5_col7,#T_2332d982_84e1_11eb_b955_a683e7ab32c1row5_col8,#T_2332d982_84e1_11eb_b955_a683e7ab32c1row6_col5,#T_2332d982_84e1_11eb_b955_a683e7ab32c1row7_col5,#T_2332d982_84e1_11eb_b955_a683e7ab32c1row8_col5{\n            background-color:  #000000;\n            color:  #f1f1f1;\n        }#T_2332d982_84e1_11eb_b955_a683e7ab32c1row0_col6,#T_2332d982_84e1_11eb_b955_a683e7ab32c1row1_col0,#T_2332d982_84e1_11eb_b955_a683e7ab32c1row1_col6,#T_2332d982_84e1_11eb_b955_a683e7ab32c1row2_col0,#T_2332d982_84e1_11eb_b955_a683e7ab32c1row2_col6,#T_2332d982_84e1_11eb_b955_a683e7ab32c1row3_col0,#T_2332d982_84e1_11eb_b955_a683e7ab32c1row4_col0,#T_2332d982_84e1_11eb_b955_a683e7ab32c1row6_col0{\n            background-color:  #3c4ec2;\n            color:  #f1f1f1;\n        }#T_2332d982_84e1_11eb_b955_a683e7ab32c1row0_col7{\n            background-color:  #5470de;\n            color:  #000000;\n        }#T_2332d982_84e1_11eb_b955_a683e7ab32c1row0_col8{\n            background-color:  #465ecf;\n            color:  #f1f1f1;\n        }#T_2332d982_84e1_11eb_b955_a683e7ab32c1row1_col2,#T_2332d982_84e1_11eb_b955_a683e7ab32c1row1_col7,#T_2332d982_84e1_11eb_b955_a683e7ab32c1row1_col8,#T_2332d982_84e1_11eb_b955_a683e7ab32c1row2_col1,#T_2332d982_84e1_11eb_b955_a683e7ab32c1row3_col4,#T_2332d982_84e1_11eb_b955_a683e7ab32c1row4_col3,#T_2332d982_84e1_11eb_b955_a683e7ab32c1row4_col6,#T_2332d982_84e1_11eb_b955_a683e7ab32c1row7_col0,#T_2332d982_84e1_11eb_b955_a683e7ab32c1row8_col0{\n            background-color:  #3b4cc0;\n            color:  #f1f1f1;\n        }#T_2332d982_84e1_11eb_b955_a683e7ab32c1row2_col7{\n            background-color:  #7295f4;\n            color:  #000000;\n        }#T_2332d982_84e1_11eb_b955_a683e7ab32c1row2_col8,#T_2332d982_84e1_11eb_b955_a683e7ab32c1row3_col7{\n            background-color:  #5875e1;\n            color:  #000000;\n        }#T_2332d982_84e1_11eb_b955_a683e7ab32c1row3_col6{\n            background-color:  #3e51c5;\n            color:  #f1f1f1;\n        }#T_2332d982_84e1_11eb_b955_a683e7ab32c1row3_col8{\n            background-color:  #4a63d3;\n            color:  #f1f1f1;\n        }#T_2332d982_84e1_11eb_b955_a683e7ab32c1row4_col7{\n            background-color:  #536edd;\n            color:  #000000;\n        }#T_2332d982_84e1_11eb_b955_a683e7ab32c1row4_col8{\n            background-color:  #485fd1;\n            color:  #f1f1f1;\n        }#T_2332d982_84e1_11eb_b955_a683e7ab32c1row6_col7,#T_2332d982_84e1_11eb_b955_a683e7ab32c1row8_col7{\n            background-color:  #a9c6fd;\n            color:  #000000;\n        }#T_2332d982_84e1_11eb_b955_a683e7ab32c1row6_col8{\n            background-color:  #5e7de7;\n            color:  #000000;\n        }#T_2332d982_84e1_11eb_b955_a683e7ab32c1row7_col1{\n            background-color:  #cfdaea;\n            color:  #000000;\n        }#T_2332d982_84e1_11eb_b955_a683e7ab32c1row7_col2{\n            background-color:  #e9d5cb;\n            color:  #000000;\n        }#T_2332d982_84e1_11eb_b955_a683e7ab32c1row7_col3{\n            background-color:  #dedcdb;\n            color:  #000000;\n        }#T_2332d982_84e1_11eb_b955_a683e7ab32c1row7_col4{\n            background-color:  #dbdcde;\n            color:  #000000;\n        }#T_2332d982_84e1_11eb_b955_a683e7ab32c1row7_col6{\n            background-color:  #94b6ff;\n            color:  #000000;\n        }#T_2332d982_84e1_11eb_b955_a683e7ab32c1row7_col8{\n            background-color:  #9ebeff;\n            color:  #000000;\n        }#T_2332d982_84e1_11eb_b955_a683e7ab32c1row8_col1{\n            background-color:  #d6dce4;\n            color:  #000000;\n        }#T_2332d982_84e1_11eb_b955_a683e7ab32c1row8_col2{\n            background-color:  #e3d9d3;\n            color:  #000000;\n        }#T_2332d982_84e1_11eb_b955_a683e7ab32c1row8_col6{\n            background-color:  #516ddb;\n            color:  #000000;\n        }</style><table id=\"T_2332d982_84e1_11eb_b955_a683e7ab32c1\" ><thead>    <tr>        <th class=\"blank level0\" ></th>        <th class=\"col_heading level0 col0\" >user_id</th>        <th class=\"col_heading level0 col1\" >Desktop</th>        <th class=\"col_heading level0 col2\" >Mobile</th>        <th class=\"col_heading level0 col3\" >Female</th>        <th class=\"col_heading level0 col4\" >Male</th>        <th class=\"col_heading level0 col5\" >Home</th>        <th class=\"col_heading level0 col6\" >Search</th>        <th class=\"col_heading level0 col7\" >Payment</th>        <th class=\"col_heading level0 col8\" >Confirmation</th>    </tr></thead><tbody>\n                <tr>\n                        <th id=\"T_2332d982_84e1_11eb_b955_a683e7ab32c1level0_row0\" class=\"row_heading level0 row0\" >user_id</th>\n                        <td id=\"T_2332d982_84e1_11eb_b955_a683e7ab32c1row0_col0\" class=\"data row0 col0\" >1.000000</td>\n                        <td id=\"T_2332d982_84e1_11eb_b955_a683e7ab32c1row0_col1\" class=\"data row0 col1\" >-0.001100</td>\n                        <td id=\"T_2332d982_84e1_11eb_b955_a683e7ab32c1row0_col2\" class=\"data row0 col2\" >0.001100</td>\n                        <td id=\"T_2332d982_84e1_11eb_b955_a683e7ab32c1row0_col3\" class=\"data row0 col3\" >-0.000987</td>\n                        <td id=\"T_2332d982_84e1_11eb_b955_a683e7ab32c1row0_col4\" class=\"data row0 col4\" >0.000987</td>\n                        <td id=\"T_2332d982_84e1_11eb_b955_a683e7ab32c1row0_col5\" class=\"data row0 col5\" >nan</td>\n                        <td id=\"T_2332d982_84e1_11eb_b955_a683e7ab32c1row0_col6\" class=\"data row0 col6\" >-0.000991</td>\n                        <td id=\"T_2332d982_84e1_11eb_b955_a683e7ab32c1row0_col7\" class=\"data row0 col7\" >-0.003305</td>\n                        <td id=\"T_2332d982_84e1_11eb_b955_a683e7ab32c1row0_col8\" class=\"data row0 col8\" >-0.005167</td>\n            </tr>\n            <tr>\n                        <th id=\"T_2332d982_84e1_11eb_b955_a683e7ab32c1level0_row1\" class=\"row_heading level0 row1\" >Desktop</th>\n                        <td id=\"T_2332d982_84e1_11eb_b955_a683e7ab32c1row1_col0\" class=\"data row1 col0\" >-0.001100</td>\n                        <td id=\"T_2332d982_84e1_11eb_b955_a683e7ab32c1row1_col1\" class=\"data row1 col1\" >1.000000</td>\n                        <td id=\"T_2332d982_84e1_11eb_b955_a683e7ab32c1row1_col2\" class=\"data row1 col2\" >-1.000000</td>\n                        <td id=\"T_2332d982_84e1_11eb_b955_a683e7ab32c1row1_col3\" class=\"data row1 col3\" >-0.000927</td>\n                        <td id=\"T_2332d982_84e1_11eb_b955_a683e7ab32c1row1_col4\" class=\"data row1 col4\" >0.000927</td>\n                        <td id=\"T_2332d982_84e1_11eb_b955_a683e7ab32c1row1_col5\" class=\"data row1 col5\" >nan</td>\n                        <td id=\"T_2332d982_84e1_11eb_b955_a683e7ab32c1row1_col6\" class=\"data row1 col6\" >-0.000000</td>\n                        <td id=\"T_2332d982_84e1_11eb_b955_a683e7ab32c1row1_col7\" class=\"data row1 col7\" >-0.094519</td>\n                        <td id=\"T_2332d982_84e1_11eb_b955_a683e7ab32c1row1_col8\" class=\"data row1 col8\" >-0.050209</td>\n            </tr>\n            <tr>\n                        <th id=\"T_2332d982_84e1_11eb_b955_a683e7ab32c1level0_row2\" class=\"row_heading level0 row2\" >Mobile</th>\n                        <td id=\"T_2332d982_84e1_11eb_b955_a683e7ab32c1row2_col0\" class=\"data row2 col0\" >0.001100</td>\n                        <td id=\"T_2332d982_84e1_11eb_b955_a683e7ab32c1row2_col1\" class=\"data row2 col1\" >-1.000000</td>\n                        <td id=\"T_2332d982_84e1_11eb_b955_a683e7ab32c1row2_col2\" class=\"data row2 col2\" >1.000000</td>\n                        <td id=\"T_2332d982_84e1_11eb_b955_a683e7ab32c1row2_col3\" class=\"data row2 col3\" >0.000927</td>\n                        <td id=\"T_2332d982_84e1_11eb_b955_a683e7ab32c1row2_col4\" class=\"data row2 col4\" >-0.000927</td>\n                        <td id=\"T_2332d982_84e1_11eb_b955_a683e7ab32c1row2_col5\" class=\"data row2 col5\" >nan</td>\n                        <td id=\"T_2332d982_84e1_11eb_b955_a683e7ab32c1row2_col6\" class=\"data row2 col6\" >0.000000</td>\n                        <td id=\"T_2332d982_84e1_11eb_b955_a683e7ab32c1row2_col7\" class=\"data row2 col7\" >0.094519</td>\n                        <td id=\"T_2332d982_84e1_11eb_b955_a683e7ab32c1row2_col8\" class=\"data row2 col8\" >0.050209</td>\n            </tr>\n            <tr>\n                        <th id=\"T_2332d982_84e1_11eb_b955_a683e7ab32c1level0_row3\" class=\"row_heading level0 row3\" >Female</th>\n                        <td id=\"T_2332d982_84e1_11eb_b955_a683e7ab32c1row3_col0\" class=\"data row3 col0\" >-0.000987</td>\n                        <td id=\"T_2332d982_84e1_11eb_b955_a683e7ab32c1row3_col1\" class=\"data row3 col1\" >-0.000927</td>\n                        <td id=\"T_2332d982_84e1_11eb_b955_a683e7ab32c1row3_col2\" class=\"data row3 col2\" >0.000927</td>\n                        <td id=\"T_2332d982_84e1_11eb_b955_a683e7ab32c1row3_col3\" class=\"data row3 col3\" >1.000000</td>\n                        <td id=\"T_2332d982_84e1_11eb_b955_a683e7ab32c1row3_col4\" class=\"data row3 col4\" >-1.000000</td>\n                        <td id=\"T_2332d982_84e1_11eb_b955_a683e7ab32c1row3_col5\" class=\"data row3 col5\" >nan</td>\n                        <td id=\"T_2332d982_84e1_11eb_b955_a683e7ab32c1row3_col6\" class=\"data row3 col6\" >0.006128</td>\n                        <td id=\"T_2332d982_84e1_11eb_b955_a683e7ab32c1row3_col7\" class=\"data row3 col7\" >0.008276</td>\n                        <td id=\"T_2332d982_84e1_11eb_b955_a683e7ab32c1row3_col8\" class=\"data row3 col8\" >0.004901</td>\n            </tr>\n            <tr>\n                        <th id=\"T_2332d982_84e1_11eb_b955_a683e7ab32c1level0_row4\" class=\"row_heading level0 row4\" >Male</th>\n                        <td id=\"T_2332d982_84e1_11eb_b955_a683e7ab32c1row4_col0\" class=\"data row4 col0\" >0.000987</td>\n                        <td id=\"T_2332d982_84e1_11eb_b955_a683e7ab32c1row4_col1\" class=\"data row4 col1\" >0.000927</td>\n                        <td id=\"T_2332d982_84e1_11eb_b955_a683e7ab32c1row4_col2\" class=\"data row4 col2\" >-0.000927</td>\n                        <td id=\"T_2332d982_84e1_11eb_b955_a683e7ab32c1row4_col3\" class=\"data row4 col3\" >-1.000000</td>\n                        <td id=\"T_2332d982_84e1_11eb_b955_a683e7ab32c1row4_col4\" class=\"data row4 col4\" >1.000000</td>\n                        <td id=\"T_2332d982_84e1_11eb_b955_a683e7ab32c1row4_col5\" class=\"data row4 col5\" >nan</td>\n                        <td id=\"T_2332d982_84e1_11eb_b955_a683e7ab32c1row4_col6\" class=\"data row4 col6\" >-0.006128</td>\n                        <td id=\"T_2332d982_84e1_11eb_b955_a683e7ab32c1row4_col7\" class=\"data row4 col7\" >-0.008276</td>\n                        <td id=\"T_2332d982_84e1_11eb_b955_a683e7ab32c1row4_col8\" class=\"data row4 col8\" >-0.004901</td>\n            </tr>\n            <tr>\n                        <th id=\"T_2332d982_84e1_11eb_b955_a683e7ab32c1level0_row5\" class=\"row_heading level0 row5\" >Home</th>\n                        <td id=\"T_2332d982_84e1_11eb_b955_a683e7ab32c1row5_col0\" class=\"data row5 col0\" >nan</td>\n                        <td id=\"T_2332d982_84e1_11eb_b955_a683e7ab32c1row5_col1\" class=\"data row5 col1\" >nan</td>\n                        <td id=\"T_2332d982_84e1_11eb_b955_a683e7ab32c1row5_col2\" class=\"data row5 col2\" >nan</td>\n                        <td id=\"T_2332d982_84e1_11eb_b955_a683e7ab32c1row5_col3\" class=\"data row5 col3\" >nan</td>\n                        <td id=\"T_2332d982_84e1_11eb_b955_a683e7ab32c1row5_col4\" class=\"data row5 col4\" >nan</td>\n                        <td id=\"T_2332d982_84e1_11eb_b955_a683e7ab32c1row5_col5\" class=\"data row5 col5\" >nan</td>\n                        <td id=\"T_2332d982_84e1_11eb_b955_a683e7ab32c1row5_col6\" class=\"data row5 col6\" >nan</td>\n                        <td id=\"T_2332d982_84e1_11eb_b955_a683e7ab32c1row5_col7\" class=\"data row5 col7\" >nan</td>\n                        <td id=\"T_2332d982_84e1_11eb_b955_a683e7ab32c1row5_col8\" class=\"data row5 col8\" >nan</td>\n            </tr>\n            <tr>\n                        <th id=\"T_2332d982_84e1_11eb_b955_a683e7ab32c1level0_row6\" class=\"row_heading level0 row6\" >Search</th>\n                        <td id=\"T_2332d982_84e1_11eb_b955_a683e7ab32c1row6_col0\" class=\"data row6 col0\" >-0.000991</td>\n                        <td id=\"T_2332d982_84e1_11eb_b955_a683e7ab32c1row6_col1\" class=\"data row6 col1\" >-0.000000</td>\n                        <td id=\"T_2332d982_84e1_11eb_b955_a683e7ab32c1row6_col2\" class=\"data row6 col2\" >0.000000</td>\n                        <td id=\"T_2332d982_84e1_11eb_b955_a683e7ab32c1row6_col3\" class=\"data row6 col3\" >0.006128</td>\n                        <td id=\"T_2332d982_84e1_11eb_b955_a683e7ab32c1row6_col4\" class=\"data row6 col4\" >-0.006128</td>\n                        <td id=\"T_2332d982_84e1_11eb_b955_a683e7ab32c1row6_col5\" class=\"data row6 col5\" >nan</td>\n                        <td id=\"T_2332d982_84e1_11eb_b955_a683e7ab32c1row6_col6\" class=\"data row6 col6\" >1.000000</td>\n                        <td id=\"T_2332d982_84e1_11eb_b955_a683e7ab32c1row6_col7\" class=\"data row6 col7\" >0.267340</td>\n                        <td id=\"T_2332d982_84e1_11eb_b955_a683e7ab32c1row6_col8\" class=\"data row6 col8\" >0.070888</td>\n            </tr>\n            <tr>\n                        <th id=\"T_2332d982_84e1_11eb_b955_a683e7ab32c1level0_row7\" class=\"row_heading level0 row7\" >Payment</th>\n                        <td id=\"T_2332d982_84e1_11eb_b955_a683e7ab32c1row7_col0\" class=\"data row7 col0\" >-0.003305</td>\n                        <td id=\"T_2332d982_84e1_11eb_b955_a683e7ab32c1row7_col1\" class=\"data row7 col1\" >-0.094519</td>\n                        <td id=\"T_2332d982_84e1_11eb_b955_a683e7ab32c1row7_col2\" class=\"data row7 col2\" >0.094519</td>\n                        <td id=\"T_2332d982_84e1_11eb_b955_a683e7ab32c1row7_col3\" class=\"data row7 col3\" >0.008276</td>\n                        <td id=\"T_2332d982_84e1_11eb_b955_a683e7ab32c1row7_col4\" class=\"data row7 col4\" >-0.008276</td>\n                        <td id=\"T_2332d982_84e1_11eb_b955_a683e7ab32c1row7_col5\" class=\"data row7 col5\" >nan</td>\n                        <td id=\"T_2332d982_84e1_11eb_b955_a683e7ab32c1row7_col6\" class=\"data row7 col6\" >0.267340</td>\n                        <td id=\"T_2332d982_84e1_11eb_b955_a683e7ab32c1row7_col7\" class=\"data row7 col7\" >1.000000</td>\n                        <td id=\"T_2332d982_84e1_11eb_b955_a683e7ab32c1row7_col8\" class=\"data row7 col8\" >0.265161</td>\n            </tr>\n            <tr>\n                        <th id=\"T_2332d982_84e1_11eb_b955_a683e7ab32c1level0_row8\" class=\"row_heading level0 row8\" >Confirmation</th>\n                        <td id=\"T_2332d982_84e1_11eb_b955_a683e7ab32c1row8_col0\" class=\"data row8 col0\" >-0.005167</td>\n                        <td id=\"T_2332d982_84e1_11eb_b955_a683e7ab32c1row8_col1\" class=\"data row8 col1\" >-0.050209</td>\n                        <td id=\"T_2332d982_84e1_11eb_b955_a683e7ab32c1row8_col2\" class=\"data row8 col2\" >0.050209</td>\n                        <td id=\"T_2332d982_84e1_11eb_b955_a683e7ab32c1row8_col3\" class=\"data row8 col3\" >0.004901</td>\n                        <td id=\"T_2332d982_84e1_11eb_b955_a683e7ab32c1row8_col4\" class=\"data row8 col4\" >-0.004901</td>\n                        <td id=\"T_2332d982_84e1_11eb_b955_a683e7ab32c1row8_col5\" class=\"data row8 col5\" >nan</td>\n                        <td id=\"T_2332d982_84e1_11eb_b955_a683e7ab32c1row8_col6\" class=\"data row8 col6\" >0.070888</td>\n                        <td id=\"T_2332d982_84e1_11eb_b955_a683e7ab32c1row8_col7\" class=\"data row8 col7\" >0.265161</td>\n                        <td id=\"T_2332d982_84e1_11eb_b955_a683e7ab32c1row8_col8\" class=\"data row8 col8\" >1.000000</td>\n            </tr>\n    </tbody></table>"
                    },
                    "metadata": {},
                    "execution_count": 192,
                    "output_type": "execute_result"
                }
            ],
            "execution_count": 192
        },
        {
            "cell_type": "markdown",
            "source": [
                "## **Create dataset for powerbi (aditional activity)**"
            ],
            "metadata": {
                "azdata_cell_guid": "142bccca-a2f4-4342-9208-99c75541e27c"
            }
        },
        {
            "cell_type": "code",
            "source": [
                "flow2['Sex'] = flow2['Male']\n",
                "flow2.drop(['Female', 'Male', 'Mobile'], axis=1, inplace=True)"
            ],
            "metadata": {
                "azdata_cell_guid": "1a2d1be2-11ea-4f6b-a6e3-729551cf7735"
            },
            "outputs": [],
            "execution_count": 193
        },
        {
            "cell_type": "code",
            "source": [
                "# create month column\n",
                "flow2['month'] = pd.DatetimeIndex(flow2['date']).month\n",
                "flow2['month'] = flow2['month'].apply(lambda x: calendar.month_abbr[x])\n",
                "\n",
                "flow2.head()"
            ],
            "metadata": {
                "azdata_cell_guid": "b61e649c-6acd-4f9a-977c-ba62ad84946b"
            },
            "outputs": [
                {
                    "data": {
                        "text/plain": "   user_id        date  Desktop  Home  Search  Payment  Confirmation  Sex  \\\n0   450007  2015-02-28        1     1       0        0             0    0   \n1   756838  2015-01-13        1     1       0        0             0    1   \n2   568983  2015-04-09        1     1       1        0             0    1   \n3   190794  2015-02-18        1     1       1        0             0    0   \n4   537909  2015-01-15        1     1       0        0             0    1   \n\n  month  \n0   Feb  \n1   Jan  \n2   Apr  \n3   Feb  \n4   Jan  ",
                        "text/html": "<div>\n<style scoped>\n    .dataframe tbody tr th:only-of-type {\n        vertical-align: middle;\n    }\n\n    .dataframe tbody tr th {\n        vertical-align: top;\n    }\n\n    .dataframe thead th {\n        text-align: right;\n    }\n</style>\n<table border=\"1\" class=\"dataframe\">\n  <thead>\n    <tr style=\"text-align: right;\">\n      <th></th>\n      <th>user_id</th>\n      <th>date</th>\n      <th>Desktop</th>\n      <th>Home</th>\n      <th>Search</th>\n      <th>Payment</th>\n      <th>Confirmation</th>\n      <th>Sex</th>\n      <th>month</th>\n    </tr>\n  </thead>\n  <tbody>\n    <tr>\n      <th>0</th>\n      <td>450007</td>\n      <td>2015-02-28</td>\n      <td>1</td>\n      <td>1</td>\n      <td>0</td>\n      <td>0</td>\n      <td>0</td>\n      <td>0</td>\n      <td>Feb</td>\n    </tr>\n    <tr>\n      <th>1</th>\n      <td>756838</td>\n      <td>2015-01-13</td>\n      <td>1</td>\n      <td>1</td>\n      <td>0</td>\n      <td>0</td>\n      <td>0</td>\n      <td>1</td>\n      <td>Jan</td>\n    </tr>\n    <tr>\n      <th>2</th>\n      <td>568983</td>\n      <td>2015-04-09</td>\n      <td>1</td>\n      <td>1</td>\n      <td>1</td>\n      <td>0</td>\n      <td>0</td>\n      <td>1</td>\n      <td>Apr</td>\n    </tr>\n    <tr>\n      <th>3</th>\n      <td>190794</td>\n      <td>2015-02-18</td>\n      <td>1</td>\n      <td>1</td>\n      <td>1</td>\n      <td>0</td>\n      <td>0</td>\n      <td>0</td>\n      <td>Feb</td>\n    </tr>\n    <tr>\n      <th>4</th>\n      <td>537909</td>\n      <td>2015-01-15</td>\n      <td>1</td>\n      <td>1</td>\n      <td>0</td>\n      <td>0</td>\n      <td>0</td>\n      <td>1</td>\n      <td>Jan</td>\n    </tr>\n  </tbody>\n</table>\n</div>"
                    },
                    "metadata": {},
                    "execution_count": 227,
                    "output_type": "execute_result"
                }
            ],
            "execution_count": 227
        },
        {
            "cell_type": "code",
            "source": [
                "flow2.to_csv('funnel2.csv', index=False)"
            ],
            "metadata": {
                "azdata_cell_guid": "ba7c3238-b44a-4e9f-8371-b1cfb55f3053"
            },
            "outputs": [],
            "execution_count": 228
        },
        {
            "cell_type": "markdown",
            "source": [
                "## **Comparing Visits by Gender**"
            ],
            "metadata": {
                "azdata_cell_guid": "8e9d89c0-91c9-482c-a921-c1454d80af26"
            }
        },
        {
            "cell_type": "code",
            "source": [
                "gender = flow.groupby(['sex']).user_id.count().reset_index()\n",
                "\n",
                "gender"
            ],
            "metadata": {
                "azdata_cell_guid": "0ee88993-7e6c-498e-a351-d607d5c0bf51",
                "tags": []
            },
            "outputs": [
                {
                    "data": {
                        "text/plain": "      sex  user_id\n0  Female    45075\n1    Male    45325",
                        "text/html": "<div>\n<style scoped>\n    .dataframe tbody tr th:only-of-type {\n        vertical-align: middle;\n    }\n\n    .dataframe tbody tr th {\n        vertical-align: top;\n    }\n\n    .dataframe thead th {\n        text-align: right;\n    }\n</style>\n<table border=\"1\" class=\"dataframe\">\n  <thead>\n    <tr style=\"text-align: right;\">\n      <th></th>\n      <th>sex</th>\n      <th>user_id</th>\n    </tr>\n  </thead>\n  <tbody>\n    <tr>\n      <th>0</th>\n      <td>Female</td>\n      <td>45075</td>\n    </tr>\n    <tr>\n      <th>1</th>\n      <td>Male</td>\n      <td>45325</td>\n    </tr>\n  </tbody>\n</table>\n</div>"
                    },
                    "metadata": {},
                    "execution_count": 196,
                    "output_type": "execute_result"
                }
            ],
            "execution_count": 196
        },
        {
            "cell_type": "markdown",
            "source": [
                "## **Comparing Visits per Page by Gender**"
            ],
            "metadata": {
                "azdata_cell_guid": "ca437d2d-4ef5-48f8-a310-a4bb7ee27e46"
            }
        },
        {
            "cell_type": "code",
            "source": [
                "# create pivot table function for gender and page\n",
                "\n",
                "def gender_pivot(page):\n",
                "    gender_page = flow.groupby(['sex', page]).user_id.count().reset_index()\n",
                "    gender_pivot = gender_page.pivot(index='sex', columns = page, values = 'user_id')\n",
                "   \n",
                "    return gender_pivot"
            ],
            "metadata": {
                "azdata_cell_guid": "452f63ab-7857-4d99-8871-0f58ed75d3e3",
                "tags": []
            },
            "outputs": [],
            "execution_count": 197
        },
        {
            "cell_type": "code",
            "source": [
                "# home pivot using the function created\n",
                "\n",
                "home_pivot = gender_pivot('Home')\n",
                "home_pivot"
            ],
            "metadata": {
                "azdata_cell_guid": "afcefb11-45ed-4291-ac20-bb900f7b69cb",
                "tags": []
            },
            "outputs": [
                {
                    "data": {
                        "text/plain": "Home    home_page\nsex              \nFemale      45075\nMale        45325",
                        "text/html": "<div>\n<style scoped>\n    .dataframe tbody tr th:only-of-type {\n        vertical-align: middle;\n    }\n\n    .dataframe tbody tr th {\n        vertical-align: top;\n    }\n\n    .dataframe thead th {\n        text-align: right;\n    }\n</style>\n<table border=\"1\" class=\"dataframe\">\n  <thead>\n    <tr style=\"text-align: right;\">\n      <th>Home</th>\n      <th>home_page</th>\n    </tr>\n    <tr>\n      <th>sex</th>\n      <th></th>\n    </tr>\n  </thead>\n  <tbody>\n    <tr>\n      <th>Female</th>\n      <td>45075</td>\n    </tr>\n    <tr>\n      <th>Male</th>\n      <td>45325</td>\n    </tr>\n  </tbody>\n</table>\n</div>"
                    },
                    "metadata": {},
                    "execution_count": 198,
                    "output_type": "execute_result"
                }
            ],
            "execution_count": 198
        },
        {
            "cell_type": "code",
            "source": [
                "# repeat for search, payment, confirmation\n",
                "\n",
                "search_pivot = gender_pivot('Search')\n",
                "payment_pivot = gender_pivot('Payment')\n",
                "confirmation_pivot = gender_pivot('Confirmation')"
            ],
            "metadata": {
                "azdata_cell_guid": "a1f1a67f-e328-4b10-b703-e1912a6ad2b6",
                "tags": []
            },
            "outputs": [],
            "execution_count": 199
        },
        {
            "cell_type": "code",
            "source": [
                "# merge pivot tables and exclude duplicated sex\n",
                "\n",
                "gender_drop = home_pivot.merge(search_pivot, \n",
                "                                how = 'outer', on = 'sex').merge(payment_pivot, \n",
                "                                how = 'outer', on = 'sex').merge(confirmation_pivot, \n",
                "                                how = 'outer', on = 'sex')\n",
                "    \n",
                "gender_drop"
            ],
            "metadata": {
                "azdata_cell_guid": "d0d849b1-41ea-4352-90be-0d749ab96dd4",
                "tags": []
            },
            "outputs": [
                {
                    "data": {
                        "text/plain": "        home_page  search_page  payment_page  payment_confirmation_page\nsex                                                                    \nFemale      45075        22676          3100                        241\nMale        45325        22524          2930                        211",
                        "text/html": "<div>\n<style scoped>\n    .dataframe tbody tr th:only-of-type {\n        vertical-align: middle;\n    }\n\n    .dataframe tbody tr th {\n        vertical-align: top;\n    }\n\n    .dataframe thead th {\n        text-align: right;\n    }\n</style>\n<table border=\"1\" class=\"dataframe\">\n  <thead>\n    <tr style=\"text-align: right;\">\n      <th></th>\n      <th>home_page</th>\n      <th>search_page</th>\n      <th>payment_page</th>\n      <th>payment_confirmation_page</th>\n    </tr>\n    <tr>\n      <th>sex</th>\n      <th></th>\n      <th></th>\n      <th></th>\n      <th></th>\n    </tr>\n  </thead>\n  <tbody>\n    <tr>\n      <th>Female</th>\n      <td>45075</td>\n      <td>22676</td>\n      <td>3100</td>\n      <td>241</td>\n    </tr>\n    <tr>\n      <th>Male</th>\n      <td>45325</td>\n      <td>22524</td>\n      <td>2930</td>\n      <td>211</td>\n    </tr>\n  </tbody>\n</table>\n</div>"
                    },
                    "metadata": {},
                    "execution_count": 200,
                    "output_type": "execute_result"
                }
            ],
            "execution_count": 200
        },
        {
            "cell_type": "code",
            "source": [
                "# using graph_objects to plot the above observations\n",
                "\n",
                "fig = go.Figure()\n",
                "\n",
                "fig.add_trace(go.Funnel(\n",
                "    name = 'Female',\n",
                "    y = ['Home', 'Search', 'Payment', 'Confirmation'],\n",
                "    x = [45075, 22676, 3100, 241],\n",
                "    textposition = 'inside',\n",
                "    textinfo = 'value + percent initial'))\n",
                "\n",
                "fig.add_trace(go.Funnel(\n",
                "    name = 'Male',\n",
                "    y = ['Home', 'Search', 'Payment', 'Confirmation'],\n",
                "    x = [45325, 22524, 2930, 211],\n",
                "    textposition = 'inside',\n",
                "    textinfo = 'value + percent previous'))\n",
                "\n",
                "fig.show()"
            ],
            "metadata": {
                "azdata_cell_guid": "8f4fbd6c-f035-427f-84bc-2b8fb541a6b1",
                "tags": []
            },
            "outputs": [
                {
                    "data": {
                        "application/vnd.plotly.v1+json": {
                            "config": {
                                "plotlyServerURL": "https://plot.ly"
                            },
                            "data": [
                                {
                                    "name": "Female",
                                    "textinfo": "value+percent initial",
                                    "textposition": "inside",
                                    "type": "funnel",
                                    "x": [
                                        45075,
                                        22676,
                                        3100,
                                        241
                                    ],
                                    "y": [
                                        "Home",
                                        "Search",
                                        "Payment",
                                        "Confirmation"
                                    ]
                                },
                                {
                                    "name": "Male",
                                    "textinfo": "value+percent previous",
                                    "textposition": "inside",
                                    "type": "funnel",
                                    "x": [
                                        45325,
                                        22524,
                                        2930,
                                        211
                                    ],
                                    "y": [
                                        "Home",
                                        "Search",
                                        "Payment",
                                        "Confirmation"
                                    ]
                                }
                            ],
                            "layout": {
                                "template": {
                                    "data": {
                                        "bar": [
                                            {
                                                "error_x": {
                                                    "color": "#2a3f5f"
                                                },
                                                "error_y": {
                                                    "color": "#2a3f5f"
                                                },
                                                "marker": {
                                                    "line": {
                                                        "color": "#E5ECF6",
                                                        "width": 0.5
                                                    }
                                                },
                                                "type": "bar"
                                            }
                                        ],
                                        "barpolar": [
                                            {
                                                "marker": {
                                                    "line": {
                                                        "color": "#E5ECF6",
                                                        "width": 0.5
                                                    }
                                                },
                                                "type": "barpolar"
                                            }
                                        ],
                                        "carpet": [
                                            {
                                                "aaxis": {
                                                    "endlinecolor": "#2a3f5f",
                                                    "gridcolor": "white",
                                                    "linecolor": "white",
                                                    "minorgridcolor": "white",
                                                    "startlinecolor": "#2a3f5f"
                                                },
                                                "baxis": {
                                                    "endlinecolor": "#2a3f5f",
                                                    "gridcolor": "white",
                                                    "linecolor": "white",
                                                    "minorgridcolor": "white",
                                                    "startlinecolor": "#2a3f5f"
                                                },
                                                "type": "carpet"
                                            }
                                        ],
                                        "choropleth": [
                                            {
                                                "colorbar": {
                                                    "outlinewidth": 0,
                                                    "ticks": ""
                                                },
                                                "type": "choropleth"
                                            }
                                        ],
                                        "contour": [
                                            {
                                                "colorbar": {
                                                    "outlinewidth": 0,
                                                    "ticks": ""
                                                },
                                                "colorscale": [
                                                    [
                                                        0,
                                                        "#0d0887"
                                                    ],
                                                    [
                                                        0.1111111111111111,
                                                        "#46039f"
                                                    ],
                                                    [
                                                        0.2222222222222222,
                                                        "#7201a8"
                                                    ],
                                                    [
                                                        0.3333333333333333,
                                                        "#9c179e"
                                                    ],
                                                    [
                                                        0.4444444444444444,
                                                        "#bd3786"
                                                    ],
                                                    [
                                                        0.5555555555555556,
                                                        "#d8576b"
                                                    ],
                                                    [
                                                        0.6666666666666666,
                                                        "#ed7953"
                                                    ],
                                                    [
                                                        0.7777777777777778,
                                                        "#fb9f3a"
                                                    ],
                                                    [
                                                        0.8888888888888888,
                                                        "#fdca26"
                                                    ],
                                                    [
                                                        1,
                                                        "#f0f921"
                                                    ]
                                                ],
                                                "type": "contour"
                                            }
                                        ],
                                        "contourcarpet": [
                                            {
                                                "colorbar": {
                                                    "outlinewidth": 0,
                                                    "ticks": ""
                                                },
                                                "type": "contourcarpet"
                                            }
                                        ],
                                        "heatmap": [
                                            {
                                                "colorbar": {
                                                    "outlinewidth": 0,
                                                    "ticks": ""
                                                },
                                                "colorscale": [
                                                    [
                                                        0,
                                                        "#0d0887"
                                                    ],
                                                    [
                                                        0.1111111111111111,
                                                        "#46039f"
                                                    ],
                                                    [
                                                        0.2222222222222222,
                                                        "#7201a8"
                                                    ],
                                                    [
                                                        0.3333333333333333,
                                                        "#9c179e"
                                                    ],
                                                    [
                                                        0.4444444444444444,
                                                        "#bd3786"
                                                    ],
                                                    [
                                                        0.5555555555555556,
                                                        "#d8576b"
                                                    ],
                                                    [
                                                        0.6666666666666666,
                                                        "#ed7953"
                                                    ],
                                                    [
                                                        0.7777777777777778,
                                                        "#fb9f3a"
                                                    ],
                                                    [
                                                        0.8888888888888888,
                                                        "#fdca26"
                                                    ],
                                                    [
                                                        1,
                                                        "#f0f921"
                                                    ]
                                                ],
                                                "type": "heatmap"
                                            }
                                        ],
                                        "heatmapgl": [
                                            {
                                                "colorbar": {
                                                    "outlinewidth": 0,
                                                    "ticks": ""
                                                },
                                                "colorscale": [
                                                    [
                                                        0,
                                                        "#0d0887"
                                                    ],
                                                    [
                                                        0.1111111111111111,
                                                        "#46039f"
                                                    ],
                                                    [
                                                        0.2222222222222222,
                                                        "#7201a8"
                                                    ],
                                                    [
                                                        0.3333333333333333,
                                                        "#9c179e"
                                                    ],
                                                    [
                                                        0.4444444444444444,
                                                        "#bd3786"
                                                    ],
                                                    [
                                                        0.5555555555555556,
                                                        "#d8576b"
                                                    ],
                                                    [
                                                        0.6666666666666666,
                                                        "#ed7953"
                                                    ],
                                                    [
                                                        0.7777777777777778,
                                                        "#fb9f3a"
                                                    ],
                                                    [
                                                        0.8888888888888888,
                                                        "#fdca26"
                                                    ],
                                                    [
                                                        1,
                                                        "#f0f921"
                                                    ]
                                                ],
                                                "type": "heatmapgl"
                                            }
                                        ],
                                        "histogram": [
                                            {
                                                "marker": {
                                                    "colorbar": {
                                                        "outlinewidth": 0,
                                                        "ticks": ""
                                                    }
                                                },
                                                "type": "histogram"
                                            }
                                        ],
                                        "histogram2d": [
                                            {
                                                "colorbar": {
                                                    "outlinewidth": 0,
                                                    "ticks": ""
                                                },
                                                "colorscale": [
                                                    [
                                                        0,
                                                        "#0d0887"
                                                    ],
                                                    [
                                                        0.1111111111111111,
                                                        "#46039f"
                                                    ],
                                                    [
                                                        0.2222222222222222,
                                                        "#7201a8"
                                                    ],
                                                    [
                                                        0.3333333333333333,
                                                        "#9c179e"
                                                    ],
                                                    [
                                                        0.4444444444444444,
                                                        "#bd3786"
                                                    ],
                                                    [
                                                        0.5555555555555556,
                                                        "#d8576b"
                                                    ],
                                                    [
                                                        0.6666666666666666,
                                                        "#ed7953"
                                                    ],
                                                    [
                                                        0.7777777777777778,
                                                        "#fb9f3a"
                                                    ],
                                                    [
                                                        0.8888888888888888,
                                                        "#fdca26"
                                                    ],
                                                    [
                                                        1,
                                                        "#f0f921"
                                                    ]
                                                ],
                                                "type": "histogram2d"
                                            }
                                        ],
                                        "histogram2dcontour": [
                                            {
                                                "colorbar": {
                                                    "outlinewidth": 0,
                                                    "ticks": ""
                                                },
                                                "colorscale": [
                                                    [
                                                        0,
                                                        "#0d0887"
                                                    ],
                                                    [
                                                        0.1111111111111111,
                                                        "#46039f"
                                                    ],
                                                    [
                                                        0.2222222222222222,
                                                        "#7201a8"
                                                    ],
                                                    [
                                                        0.3333333333333333,
                                                        "#9c179e"
                                                    ],
                                                    [
                                                        0.4444444444444444,
                                                        "#bd3786"
                                                    ],
                                                    [
                                                        0.5555555555555556,
                                                        "#d8576b"
                                                    ],
                                                    [
                                                        0.6666666666666666,
                                                        "#ed7953"
                                                    ],
                                                    [
                                                        0.7777777777777778,
                                                        "#fb9f3a"
                                                    ],
                                                    [
                                                        0.8888888888888888,
                                                        "#fdca26"
                                                    ],
                                                    [
                                                        1,
                                                        "#f0f921"
                                                    ]
                                                ],
                                                "type": "histogram2dcontour"
                                            }
                                        ],
                                        "mesh3d": [
                                            {
                                                "colorbar": {
                                                    "outlinewidth": 0,
                                                    "ticks": ""
                                                },
                                                "type": "mesh3d"
                                            }
                                        ],
                                        "parcoords": [
                                            {
                                                "line": {
                                                    "colorbar": {
                                                        "outlinewidth": 0,
                                                        "ticks": ""
                                                    }
                                                },
                                                "type": "parcoords"
                                            }
                                        ],
                                        "pie": [
                                            {
                                                "automargin": true,
                                                "type": "pie"
                                            }
                                        ],
                                        "scatter": [
                                            {
                                                "marker": {
                                                    "colorbar": {
                                                        "outlinewidth": 0,
                                                        "ticks": ""
                                                    }
                                                },
                                                "type": "scatter"
                                            }
                                        ],
                                        "scatter3d": [
                                            {
                                                "line": {
                                                    "colorbar": {
                                                        "outlinewidth": 0,
                                                        "ticks": ""
                                                    }
                                                },
                                                "marker": {
                                                    "colorbar": {
                                                        "outlinewidth": 0,
                                                        "ticks": ""
                                                    }
                                                },
                                                "type": "scatter3d"
                                            }
                                        ],
                                        "scattercarpet": [
                                            {
                                                "marker": {
                                                    "colorbar": {
                                                        "outlinewidth": 0,
                                                        "ticks": ""
                                                    }
                                                },
                                                "type": "scattercarpet"
                                            }
                                        ],
                                        "scattergeo": [
                                            {
                                                "marker": {
                                                    "colorbar": {
                                                        "outlinewidth": 0,
                                                        "ticks": ""
                                                    }
                                                },
                                                "type": "scattergeo"
                                            }
                                        ],
                                        "scattergl": [
                                            {
                                                "marker": {
                                                    "colorbar": {
                                                        "outlinewidth": 0,
                                                        "ticks": ""
                                                    }
                                                },
                                                "type": "scattergl"
                                            }
                                        ],
                                        "scattermapbox": [
                                            {
                                                "marker": {
                                                    "colorbar": {
                                                        "outlinewidth": 0,
                                                        "ticks": ""
                                                    }
                                                },
                                                "type": "scattermapbox"
                                            }
                                        ],
                                        "scatterpolar": [
                                            {
                                                "marker": {
                                                    "colorbar": {
                                                        "outlinewidth": 0,
                                                        "ticks": ""
                                                    }
                                                },
                                                "type": "scatterpolar"
                                            }
                                        ],
                                        "scatterpolargl": [
                                            {
                                                "marker": {
                                                    "colorbar": {
                                                        "outlinewidth": 0,
                                                        "ticks": ""
                                                    }
                                                },
                                                "type": "scatterpolargl"
                                            }
                                        ],
                                        "scatterternary": [
                                            {
                                                "marker": {
                                                    "colorbar": {
                                                        "outlinewidth": 0,
                                                        "ticks": ""
                                                    }
                                                },
                                                "type": "scatterternary"
                                            }
                                        ],
                                        "surface": [
                                            {
                                                "colorbar": {
                                                    "outlinewidth": 0,
                                                    "ticks": ""
                                                },
                                                "colorscale": [
                                                    [
                                                        0,
                                                        "#0d0887"
                                                    ],
                                                    [
                                                        0.1111111111111111,
                                                        "#46039f"
                                                    ],
                                                    [
                                                        0.2222222222222222,
                                                        "#7201a8"
                                                    ],
                                                    [
                                                        0.3333333333333333,
                                                        "#9c179e"
                                                    ],
                                                    [
                                                        0.4444444444444444,
                                                        "#bd3786"
                                                    ],
                                                    [
                                                        0.5555555555555556,
                                                        "#d8576b"
                                                    ],
                                                    [
                                                        0.6666666666666666,
                                                        "#ed7953"
                                                    ],
                                                    [
                                                        0.7777777777777778,
                                                        "#fb9f3a"
                                                    ],
                                                    [
                                                        0.8888888888888888,
                                                        "#fdca26"
                                                    ],
                                                    [
                                                        1,
                                                        "#f0f921"
                                                    ]
                                                ],
                                                "type": "surface"
                                            }
                                        ],
                                        "table": [
                                            {
                                                "cells": {
                                                    "fill": {
                                                        "color": "#EBF0F8"
                                                    },
                                                    "line": {
                                                        "color": "white"
                                                    }
                                                },
                                                "header": {
                                                    "fill": {
                                                        "color": "#C8D4E3"
                                                    },
                                                    "line": {
                                                        "color": "white"
                                                    }
                                                },
                                                "type": "table"
                                            }
                                        ]
                                    },
                                    "layout": {
                                        "annotationdefaults": {
                                            "arrowcolor": "#2a3f5f",
                                            "arrowhead": 0,
                                            "arrowwidth": 1
                                        },
                                        "coloraxis": {
                                            "colorbar": {
                                                "outlinewidth": 0,
                                                "ticks": ""
                                            }
                                        },
                                        "colorscale": {
                                            "diverging": [
                                                [
                                                    0,
                                                    "#8e0152"
                                                ],
                                                [
                                                    0.1,
                                                    "#c51b7d"
                                                ],
                                                [
                                                    0.2,
                                                    "#de77ae"
                                                ],
                                                [
                                                    0.3,
                                                    "#f1b6da"
                                                ],
                                                [
                                                    0.4,
                                                    "#fde0ef"
                                                ],
                                                [
                                                    0.5,
                                                    "#f7f7f7"
                                                ],
                                                [
                                                    0.6,
                                                    "#e6f5d0"
                                                ],
                                                [
                                                    0.7,
                                                    "#b8e186"
                                                ],
                                                [
                                                    0.8,
                                                    "#7fbc41"
                                                ],
                                                [
                                                    0.9,
                                                    "#4d9221"
                                                ],
                                                [
                                                    1,
                                                    "#276419"
                                                ]
                                            ],
                                            "sequential": [
                                                [
                                                    0,
                                                    "#0d0887"
                                                ],
                                                [
                                                    0.1111111111111111,
                                                    "#46039f"
                                                ],
                                                [
                                                    0.2222222222222222,
                                                    "#7201a8"
                                                ],
                                                [
                                                    0.3333333333333333,
                                                    "#9c179e"
                                                ],
                                                [
                                                    0.4444444444444444,
                                                    "#bd3786"
                                                ],
                                                [
                                                    0.5555555555555556,
                                                    "#d8576b"
                                                ],
                                                [
                                                    0.6666666666666666,
                                                    "#ed7953"
                                                ],
                                                [
                                                    0.7777777777777778,
                                                    "#fb9f3a"
                                                ],
                                                [
                                                    0.8888888888888888,
                                                    "#fdca26"
                                                ],
                                                [
                                                    1,
                                                    "#f0f921"
                                                ]
                                            ],
                                            "sequentialminus": [
                                                [
                                                    0,
                                                    "#0d0887"
                                                ],
                                                [
                                                    0.1111111111111111,
                                                    "#46039f"
                                                ],
                                                [
                                                    0.2222222222222222,
                                                    "#7201a8"
                                                ],
                                                [
                                                    0.3333333333333333,
                                                    "#9c179e"
                                                ],
                                                [
                                                    0.4444444444444444,
                                                    "#bd3786"
                                                ],
                                                [
                                                    0.5555555555555556,
                                                    "#d8576b"
                                                ],
                                                [
                                                    0.6666666666666666,
                                                    "#ed7953"
                                                ],
                                                [
                                                    0.7777777777777778,
                                                    "#fb9f3a"
                                                ],
                                                [
                                                    0.8888888888888888,
                                                    "#fdca26"
                                                ],
                                                [
                                                    1,
                                                    "#f0f921"
                                                ]
                                            ]
                                        },
                                        "colorway": [
                                            "#636efa",
                                            "#EF553B",
                                            "#00cc96",
                                            "#ab63fa",
                                            "#FFA15A",
                                            "#19d3f3",
                                            "#FF6692",
                                            "#B6E880",
                                            "#FF97FF",
                                            "#FECB52"
                                        ],
                                        "font": {
                                            "color": "#2a3f5f"
                                        },
                                        "geo": {
                                            "bgcolor": "white",
                                            "lakecolor": "white",
                                            "landcolor": "#E5ECF6",
                                            "showlakes": true,
                                            "showland": true,
                                            "subunitcolor": "white"
                                        },
                                        "hoverlabel": {
                                            "align": "left"
                                        },
                                        "hovermode": "closest",
                                        "mapbox": {
                                            "style": "light"
                                        },
                                        "paper_bgcolor": "white",
                                        "plot_bgcolor": "#E5ECF6",
                                        "polar": {
                                            "angularaxis": {
                                                "gridcolor": "white",
                                                "linecolor": "white",
                                                "ticks": ""
                                            },
                                            "bgcolor": "#E5ECF6",
                                            "radialaxis": {
                                                "gridcolor": "white",
                                                "linecolor": "white",
                                                "ticks": ""
                                            }
                                        },
                                        "scene": {
                                            "xaxis": {
                                                "backgroundcolor": "#E5ECF6",
                                                "gridcolor": "white",
                                                "gridwidth": 2,
                                                "linecolor": "white",
                                                "showbackground": true,
                                                "ticks": "",
                                                "zerolinecolor": "white"
                                            },
                                            "yaxis": {
                                                "backgroundcolor": "#E5ECF6",
                                                "gridcolor": "white",
                                                "gridwidth": 2,
                                                "linecolor": "white",
                                                "showbackground": true,
                                                "ticks": "",
                                                "zerolinecolor": "white"
                                            },
                                            "zaxis": {
                                                "backgroundcolor": "#E5ECF6",
                                                "gridcolor": "white",
                                                "gridwidth": 2,
                                                "linecolor": "white",
                                                "showbackground": true,
                                                "ticks": "",
                                                "zerolinecolor": "white"
                                            }
                                        },
                                        "shapedefaults": {
                                            "line": {
                                                "color": "#2a3f5f"
                                            }
                                        },
                                        "ternary": {
                                            "aaxis": {
                                                "gridcolor": "white",
                                                "linecolor": "white",
                                                "ticks": ""
                                            },
                                            "baxis": {
                                                "gridcolor": "white",
                                                "linecolor": "white",
                                                "ticks": ""
                                            },
                                            "bgcolor": "#E5ECF6",
                                            "caxis": {
                                                "gridcolor": "white",
                                                "linecolor": "white",
                                                "ticks": ""
                                            }
                                        },
                                        "title": {
                                            "x": 0.05
                                        },
                                        "xaxis": {
                                            "automargin": true,
                                            "gridcolor": "white",
                                            "linecolor": "white",
                                            "ticks": "",
                                            "title": {
                                                "standoff": 15
                                            },
                                            "zerolinecolor": "white",
                                            "zerolinewidth": 2
                                        },
                                        "yaxis": {
                                            "automargin": true,
                                            "gridcolor": "white",
                                            "linecolor": "white",
                                            "ticks": "",
                                            "title": {
                                                "standoff": 15
                                            },
                                            "zerolinecolor": "white",
                                            "zerolinewidth": 2
                                        }
                                    }
                                }
                            }
                        }
                    },
                    "metadata": {},
                    "output_type": "display_data"
                }
            ],
            "execution_count": 201
        },
        {
            "cell_type": "markdown",
            "source": [
                "## **Comparing Visits by Device**"
            ],
            "metadata": {
                "azdata_cell_guid": "f669ff73-f64f-4be1-84aa-9842f6420727"
            }
        },
        {
            "cell_type": "code",
            "source": [
                "device_used = flow.groupby('device').user_id.count().reset_index()\n",
                "\n",
                "device_used"
            ],
            "metadata": {
                "azdata_cell_guid": "0c03194b-6cf9-4ecc-9a5d-9cdec6bf6255",
                "tags": []
            },
            "outputs": [
                {
                    "data": {
                        "text/plain": "    device  user_id\n0  Desktop    60200\n1   Mobile    30200",
                        "text/html": "<div>\n<style scoped>\n    .dataframe tbody tr th:only-of-type {\n        vertical-align: middle;\n    }\n\n    .dataframe tbody tr th {\n        vertical-align: top;\n    }\n\n    .dataframe thead th {\n        text-align: right;\n    }\n</style>\n<table border=\"1\" class=\"dataframe\">\n  <thead>\n    <tr style=\"text-align: right;\">\n      <th></th>\n      <th>device</th>\n      <th>user_id</th>\n    </tr>\n  </thead>\n  <tbody>\n    <tr>\n      <th>0</th>\n      <td>Desktop</td>\n      <td>60200</td>\n    </tr>\n    <tr>\n      <th>1</th>\n      <td>Mobile</td>\n      <td>30200</td>\n    </tr>\n  </tbody>\n</table>\n</div>"
                    },
                    "metadata": {},
                    "execution_count": 202,
                    "output_type": "execute_result"
                }
            ],
            "execution_count": 202
        },
        {
            "cell_type": "markdown",
            "source": [
                "## **Comparing Visits per Page by Device**"
            ],
            "metadata": {
                "azdata_cell_guid": "eab40782-e197-436e-96eb-f13ff8ceb35d"
            }
        },
        {
            "cell_type": "code",
            "source": [
                "# create pivot table function for device and page\n",
                "\n",
                "def device_pivot(page):\n",
                "    device_page = flow.groupby(['device', page]).user_id.count().reset_index()\n",
                "    device_pivot = device_page.pivot(index='device', columns = page, values = 'user_id')\n",
                "   \n",
                "    return device_pivot"
            ],
            "metadata": {
                "azdata_cell_guid": "d189981b-97b1-445f-96ef-b71a890a8f6c"
            },
            "outputs": [],
            "execution_count": 203
        },
        {
            "cell_type": "code",
            "source": [
                "# use pivot function for all pages\n",
                "home_pivot = device_pivot('Home')\n",
                "search_pivot = device_pivot('Search')\n",
                "payment_pivot = device_pivot('Payment')\n",
                "confirmation_pivot = device_pivot('Confirmation')\n",
                "\n",
                "home_pivot"
            ],
            "metadata": {
                "azdata_cell_guid": "aea35f2f-d310-4bae-8dc1-0f6898b35235",
                "tags": []
            },
            "outputs": [
                {
                    "data": {
                        "text/plain": "Home     home_page\ndevice            \nDesktop      60200\nMobile       30200",
                        "text/html": "<div>\n<style scoped>\n    .dataframe tbody tr th:only-of-type {\n        vertical-align: middle;\n    }\n\n    .dataframe tbody tr th {\n        vertical-align: top;\n    }\n\n    .dataframe thead th {\n        text-align: right;\n    }\n</style>\n<table border=\"1\" class=\"dataframe\">\n  <thead>\n    <tr style=\"text-align: right;\">\n      <th>Home</th>\n      <th>home_page</th>\n    </tr>\n    <tr>\n      <th>device</th>\n      <th></th>\n    </tr>\n  </thead>\n  <tbody>\n    <tr>\n      <th>Desktop</th>\n      <td>60200</td>\n    </tr>\n    <tr>\n      <th>Mobile</th>\n      <td>30200</td>\n    </tr>\n  </tbody>\n</table>\n</div>"
                    },
                    "metadata": {},
                    "execution_count": 204,
                    "output_type": "execute_result"
                }
            ],
            "execution_count": 204
        },
        {
            "cell_type": "code",
            "source": [
                "# merge pivot tables and exclude duplicated device\n",
                "\n",
                "device_drop = home_pivot.merge(search_pivot, \n",
                "                                how = 'outer', on = 'device').merge(payment_pivot, \n",
                "                                how = 'outer', on = 'device').merge(confirmation_pivot, \n",
                "                                how = 'outer', on = 'device')\n",
                "    \n",
                "device_drop"
            ],
            "metadata": {
                "azdata_cell_guid": "07423c0a-1c40-468e-8309-0caf99ddfc24"
            },
            "outputs": [
                {
                    "data": {
                        "text/plain": "         home_page  search_page  payment_page  payment_confirmation_page\ndevice                                                                  \nDesktop      60200        30100          3010                        150\nMobile       30200        15100          3020                        302",
                        "text/html": "<div>\n<style scoped>\n    .dataframe tbody tr th:only-of-type {\n        vertical-align: middle;\n    }\n\n    .dataframe tbody tr th {\n        vertical-align: top;\n    }\n\n    .dataframe thead th {\n        text-align: right;\n    }\n</style>\n<table border=\"1\" class=\"dataframe\">\n  <thead>\n    <tr style=\"text-align: right;\">\n      <th></th>\n      <th>home_page</th>\n      <th>search_page</th>\n      <th>payment_page</th>\n      <th>payment_confirmation_page</th>\n    </tr>\n    <tr>\n      <th>device</th>\n      <th></th>\n      <th></th>\n      <th></th>\n      <th></th>\n    </tr>\n  </thead>\n  <tbody>\n    <tr>\n      <th>Desktop</th>\n      <td>60200</td>\n      <td>30100</td>\n      <td>3010</td>\n      <td>150</td>\n    </tr>\n    <tr>\n      <th>Mobile</th>\n      <td>30200</td>\n      <td>15100</td>\n      <td>3020</td>\n      <td>302</td>\n    </tr>\n  </tbody>\n</table>\n</div>"
                    },
                    "metadata": {},
                    "execution_count": 205,
                    "output_type": "execute_result"
                }
            ],
            "execution_count": 205
        },
        {
            "cell_type": "code",
            "source": [
                "# using graph_objects to plot the above observations\n",
                "\n",
                "fig = go.Figure()\n",
                "\n",
                "fig.add_trace(go.Funnel(\n",
                "    name = 'Desktop',\n",
                "    y = ['Home', 'Search', 'Payment', 'Confirmation'],\n",
                "    x = [60200, 30100, 3010, 150],\n",
                "    textposition = 'inside',\n",
                "    textinfo = 'value + percent initial'))\n",
                "\n",
                "fig.add_trace(go.Funnel(\n",
                "    name = 'Mobile',\n",
                "    y = ['Home', 'Search', 'Payment', 'Confirmation'],\n",
                "    x = [30200, 15100, 302, 302],\n",
                "    textposition = 'inside',\n",
                "    textinfo = 'value + percent previous'))\n",
                "\n",
                "fig.show()"
            ],
            "metadata": {
                "azdata_cell_guid": "44f6a017-469f-4479-8a7f-671d6e1d5eec",
                "tags": [
                    "hide_input"
                ]
            },
            "outputs": [
                {
                    "data": {
                        "application/vnd.plotly.v1+json": {
                            "config": {
                                "plotlyServerURL": "https://plot.ly"
                            },
                            "data": [
                                {
                                    "name": "Desktop",
                                    "textinfo": "value+percent initial",
                                    "textposition": "inside",
                                    "type": "funnel",
                                    "x": [
                                        60200,
                                        30100,
                                        3010,
                                        150
                                    ],
                                    "y": [
                                        "Home",
                                        "Search",
                                        "Payment",
                                        "Confirmation"
                                    ]
                                },
                                {
                                    "name": "Mobile",
                                    "textinfo": "value+percent previous",
                                    "textposition": "inside",
                                    "type": "funnel",
                                    "x": [
                                        30200,
                                        15100,
                                        302,
                                        302
                                    ],
                                    "y": [
                                        "Home",
                                        "Search",
                                        "Payment",
                                        "Confirmation"
                                    ]
                                }
                            ],
                            "layout": {
                                "template": {
                                    "data": {
                                        "bar": [
                                            {
                                                "error_x": {
                                                    "color": "#2a3f5f"
                                                },
                                                "error_y": {
                                                    "color": "#2a3f5f"
                                                },
                                                "marker": {
                                                    "line": {
                                                        "color": "#E5ECF6",
                                                        "width": 0.5
                                                    }
                                                },
                                                "type": "bar"
                                            }
                                        ],
                                        "barpolar": [
                                            {
                                                "marker": {
                                                    "line": {
                                                        "color": "#E5ECF6",
                                                        "width": 0.5
                                                    }
                                                },
                                                "type": "barpolar"
                                            }
                                        ],
                                        "carpet": [
                                            {
                                                "aaxis": {
                                                    "endlinecolor": "#2a3f5f",
                                                    "gridcolor": "white",
                                                    "linecolor": "white",
                                                    "minorgridcolor": "white",
                                                    "startlinecolor": "#2a3f5f"
                                                },
                                                "baxis": {
                                                    "endlinecolor": "#2a3f5f",
                                                    "gridcolor": "white",
                                                    "linecolor": "white",
                                                    "minorgridcolor": "white",
                                                    "startlinecolor": "#2a3f5f"
                                                },
                                                "type": "carpet"
                                            }
                                        ],
                                        "choropleth": [
                                            {
                                                "colorbar": {
                                                    "outlinewidth": 0,
                                                    "ticks": ""
                                                },
                                                "type": "choropleth"
                                            }
                                        ],
                                        "contour": [
                                            {
                                                "colorbar": {
                                                    "outlinewidth": 0,
                                                    "ticks": ""
                                                },
                                                "colorscale": [
                                                    [
                                                        0,
                                                        "#0d0887"
                                                    ],
                                                    [
                                                        0.1111111111111111,
                                                        "#46039f"
                                                    ],
                                                    [
                                                        0.2222222222222222,
                                                        "#7201a8"
                                                    ],
                                                    [
                                                        0.3333333333333333,
                                                        "#9c179e"
                                                    ],
                                                    [
                                                        0.4444444444444444,
                                                        "#bd3786"
                                                    ],
                                                    [
                                                        0.5555555555555556,
                                                        "#d8576b"
                                                    ],
                                                    [
                                                        0.6666666666666666,
                                                        "#ed7953"
                                                    ],
                                                    [
                                                        0.7777777777777778,
                                                        "#fb9f3a"
                                                    ],
                                                    [
                                                        0.8888888888888888,
                                                        "#fdca26"
                                                    ],
                                                    [
                                                        1,
                                                        "#f0f921"
                                                    ]
                                                ],
                                                "type": "contour"
                                            }
                                        ],
                                        "contourcarpet": [
                                            {
                                                "colorbar": {
                                                    "outlinewidth": 0,
                                                    "ticks": ""
                                                },
                                                "type": "contourcarpet"
                                            }
                                        ],
                                        "heatmap": [
                                            {
                                                "colorbar": {
                                                    "outlinewidth": 0,
                                                    "ticks": ""
                                                },
                                                "colorscale": [
                                                    [
                                                        0,
                                                        "#0d0887"
                                                    ],
                                                    [
                                                        0.1111111111111111,
                                                        "#46039f"
                                                    ],
                                                    [
                                                        0.2222222222222222,
                                                        "#7201a8"
                                                    ],
                                                    [
                                                        0.3333333333333333,
                                                        "#9c179e"
                                                    ],
                                                    [
                                                        0.4444444444444444,
                                                        "#bd3786"
                                                    ],
                                                    [
                                                        0.5555555555555556,
                                                        "#d8576b"
                                                    ],
                                                    [
                                                        0.6666666666666666,
                                                        "#ed7953"
                                                    ],
                                                    [
                                                        0.7777777777777778,
                                                        "#fb9f3a"
                                                    ],
                                                    [
                                                        0.8888888888888888,
                                                        "#fdca26"
                                                    ],
                                                    [
                                                        1,
                                                        "#f0f921"
                                                    ]
                                                ],
                                                "type": "heatmap"
                                            }
                                        ],
                                        "heatmapgl": [
                                            {
                                                "colorbar": {
                                                    "outlinewidth": 0,
                                                    "ticks": ""
                                                },
                                                "colorscale": [
                                                    [
                                                        0,
                                                        "#0d0887"
                                                    ],
                                                    [
                                                        0.1111111111111111,
                                                        "#46039f"
                                                    ],
                                                    [
                                                        0.2222222222222222,
                                                        "#7201a8"
                                                    ],
                                                    [
                                                        0.3333333333333333,
                                                        "#9c179e"
                                                    ],
                                                    [
                                                        0.4444444444444444,
                                                        "#bd3786"
                                                    ],
                                                    [
                                                        0.5555555555555556,
                                                        "#d8576b"
                                                    ],
                                                    [
                                                        0.6666666666666666,
                                                        "#ed7953"
                                                    ],
                                                    [
                                                        0.7777777777777778,
                                                        "#fb9f3a"
                                                    ],
                                                    [
                                                        0.8888888888888888,
                                                        "#fdca26"
                                                    ],
                                                    [
                                                        1,
                                                        "#f0f921"
                                                    ]
                                                ],
                                                "type": "heatmapgl"
                                            }
                                        ],
                                        "histogram": [
                                            {
                                                "marker": {
                                                    "colorbar": {
                                                        "outlinewidth": 0,
                                                        "ticks": ""
                                                    }
                                                },
                                                "type": "histogram"
                                            }
                                        ],
                                        "histogram2d": [
                                            {
                                                "colorbar": {
                                                    "outlinewidth": 0,
                                                    "ticks": ""
                                                },
                                                "colorscale": [
                                                    [
                                                        0,
                                                        "#0d0887"
                                                    ],
                                                    [
                                                        0.1111111111111111,
                                                        "#46039f"
                                                    ],
                                                    [
                                                        0.2222222222222222,
                                                        "#7201a8"
                                                    ],
                                                    [
                                                        0.3333333333333333,
                                                        "#9c179e"
                                                    ],
                                                    [
                                                        0.4444444444444444,
                                                        "#bd3786"
                                                    ],
                                                    [
                                                        0.5555555555555556,
                                                        "#d8576b"
                                                    ],
                                                    [
                                                        0.6666666666666666,
                                                        "#ed7953"
                                                    ],
                                                    [
                                                        0.7777777777777778,
                                                        "#fb9f3a"
                                                    ],
                                                    [
                                                        0.8888888888888888,
                                                        "#fdca26"
                                                    ],
                                                    [
                                                        1,
                                                        "#f0f921"
                                                    ]
                                                ],
                                                "type": "histogram2d"
                                            }
                                        ],
                                        "histogram2dcontour": [
                                            {
                                                "colorbar": {
                                                    "outlinewidth": 0,
                                                    "ticks": ""
                                                },
                                                "colorscale": [
                                                    [
                                                        0,
                                                        "#0d0887"
                                                    ],
                                                    [
                                                        0.1111111111111111,
                                                        "#46039f"
                                                    ],
                                                    [
                                                        0.2222222222222222,
                                                        "#7201a8"
                                                    ],
                                                    [
                                                        0.3333333333333333,
                                                        "#9c179e"
                                                    ],
                                                    [
                                                        0.4444444444444444,
                                                        "#bd3786"
                                                    ],
                                                    [
                                                        0.5555555555555556,
                                                        "#d8576b"
                                                    ],
                                                    [
                                                        0.6666666666666666,
                                                        "#ed7953"
                                                    ],
                                                    [
                                                        0.7777777777777778,
                                                        "#fb9f3a"
                                                    ],
                                                    [
                                                        0.8888888888888888,
                                                        "#fdca26"
                                                    ],
                                                    [
                                                        1,
                                                        "#f0f921"
                                                    ]
                                                ],
                                                "type": "histogram2dcontour"
                                            }
                                        ],
                                        "mesh3d": [
                                            {
                                                "colorbar": {
                                                    "outlinewidth": 0,
                                                    "ticks": ""
                                                },
                                                "type": "mesh3d"
                                            }
                                        ],
                                        "parcoords": [
                                            {
                                                "line": {
                                                    "colorbar": {
                                                        "outlinewidth": 0,
                                                        "ticks": ""
                                                    }
                                                },
                                                "type": "parcoords"
                                            }
                                        ],
                                        "pie": [
                                            {
                                                "automargin": true,
                                                "type": "pie"
                                            }
                                        ],
                                        "scatter": [
                                            {
                                                "marker": {
                                                    "colorbar": {
                                                        "outlinewidth": 0,
                                                        "ticks": ""
                                                    }
                                                },
                                                "type": "scatter"
                                            }
                                        ],
                                        "scatter3d": [
                                            {
                                                "line": {
                                                    "colorbar": {
                                                        "outlinewidth": 0,
                                                        "ticks": ""
                                                    }
                                                },
                                                "marker": {
                                                    "colorbar": {
                                                        "outlinewidth": 0,
                                                        "ticks": ""
                                                    }
                                                },
                                                "type": "scatter3d"
                                            }
                                        ],
                                        "scattercarpet": [
                                            {
                                                "marker": {
                                                    "colorbar": {
                                                        "outlinewidth": 0,
                                                        "ticks": ""
                                                    }
                                                },
                                                "type": "scattercarpet"
                                            }
                                        ],
                                        "scattergeo": [
                                            {
                                                "marker": {
                                                    "colorbar": {
                                                        "outlinewidth": 0,
                                                        "ticks": ""
                                                    }
                                                },
                                                "type": "scattergeo"
                                            }
                                        ],
                                        "scattergl": [
                                            {
                                                "marker": {
                                                    "colorbar": {
                                                        "outlinewidth": 0,
                                                        "ticks": ""
                                                    }
                                                },
                                                "type": "scattergl"
                                            }
                                        ],
                                        "scattermapbox": [
                                            {
                                                "marker": {
                                                    "colorbar": {
                                                        "outlinewidth": 0,
                                                        "ticks": ""
                                                    }
                                                },
                                                "type": "scattermapbox"
                                            }
                                        ],
                                        "scatterpolar": [
                                            {
                                                "marker": {
                                                    "colorbar": {
                                                        "outlinewidth": 0,
                                                        "ticks": ""
                                                    }
                                                },
                                                "type": "scatterpolar"
                                            }
                                        ],
                                        "scatterpolargl": [
                                            {
                                                "marker": {
                                                    "colorbar": {
                                                        "outlinewidth": 0,
                                                        "ticks": ""
                                                    }
                                                },
                                                "type": "scatterpolargl"
                                            }
                                        ],
                                        "scatterternary": [
                                            {
                                                "marker": {
                                                    "colorbar": {
                                                        "outlinewidth": 0,
                                                        "ticks": ""
                                                    }
                                                },
                                                "type": "scatterternary"
                                            }
                                        ],
                                        "surface": [
                                            {
                                                "colorbar": {
                                                    "outlinewidth": 0,
                                                    "ticks": ""
                                                },
                                                "colorscale": [
                                                    [
                                                        0,
                                                        "#0d0887"
                                                    ],
                                                    [
                                                        0.1111111111111111,
                                                        "#46039f"
                                                    ],
                                                    [
                                                        0.2222222222222222,
                                                        "#7201a8"
                                                    ],
                                                    [
                                                        0.3333333333333333,
                                                        "#9c179e"
                                                    ],
                                                    [
                                                        0.4444444444444444,
                                                        "#bd3786"
                                                    ],
                                                    [
                                                        0.5555555555555556,
                                                        "#d8576b"
                                                    ],
                                                    [
                                                        0.6666666666666666,
                                                        "#ed7953"
                                                    ],
                                                    [
                                                        0.7777777777777778,
                                                        "#fb9f3a"
                                                    ],
                                                    [
                                                        0.8888888888888888,
                                                        "#fdca26"
                                                    ],
                                                    [
                                                        1,
                                                        "#f0f921"
                                                    ]
                                                ],
                                                "type": "surface"
                                            }
                                        ],
                                        "table": [
                                            {
                                                "cells": {
                                                    "fill": {
                                                        "color": "#EBF0F8"
                                                    },
                                                    "line": {
                                                        "color": "white"
                                                    }
                                                },
                                                "header": {
                                                    "fill": {
                                                        "color": "#C8D4E3"
                                                    },
                                                    "line": {
                                                        "color": "white"
                                                    }
                                                },
                                                "type": "table"
                                            }
                                        ]
                                    },
                                    "layout": {
                                        "annotationdefaults": {
                                            "arrowcolor": "#2a3f5f",
                                            "arrowhead": 0,
                                            "arrowwidth": 1
                                        },
                                        "coloraxis": {
                                            "colorbar": {
                                                "outlinewidth": 0,
                                                "ticks": ""
                                            }
                                        },
                                        "colorscale": {
                                            "diverging": [
                                                [
                                                    0,
                                                    "#8e0152"
                                                ],
                                                [
                                                    0.1,
                                                    "#c51b7d"
                                                ],
                                                [
                                                    0.2,
                                                    "#de77ae"
                                                ],
                                                [
                                                    0.3,
                                                    "#f1b6da"
                                                ],
                                                [
                                                    0.4,
                                                    "#fde0ef"
                                                ],
                                                [
                                                    0.5,
                                                    "#f7f7f7"
                                                ],
                                                [
                                                    0.6,
                                                    "#e6f5d0"
                                                ],
                                                [
                                                    0.7,
                                                    "#b8e186"
                                                ],
                                                [
                                                    0.8,
                                                    "#7fbc41"
                                                ],
                                                [
                                                    0.9,
                                                    "#4d9221"
                                                ],
                                                [
                                                    1,
                                                    "#276419"
                                                ]
                                            ],
                                            "sequential": [
                                                [
                                                    0,
                                                    "#0d0887"
                                                ],
                                                [
                                                    0.1111111111111111,
                                                    "#46039f"
                                                ],
                                                [
                                                    0.2222222222222222,
                                                    "#7201a8"
                                                ],
                                                [
                                                    0.3333333333333333,
                                                    "#9c179e"
                                                ],
                                                [
                                                    0.4444444444444444,
                                                    "#bd3786"
                                                ],
                                                [
                                                    0.5555555555555556,
                                                    "#d8576b"
                                                ],
                                                [
                                                    0.6666666666666666,
                                                    "#ed7953"
                                                ],
                                                [
                                                    0.7777777777777778,
                                                    "#fb9f3a"
                                                ],
                                                [
                                                    0.8888888888888888,
                                                    "#fdca26"
                                                ],
                                                [
                                                    1,
                                                    "#f0f921"
                                                ]
                                            ],
                                            "sequentialminus": [
                                                [
                                                    0,
                                                    "#0d0887"
                                                ],
                                                [
                                                    0.1111111111111111,
                                                    "#46039f"
                                                ],
                                                [
                                                    0.2222222222222222,
                                                    "#7201a8"
                                                ],
                                                [
                                                    0.3333333333333333,
                                                    "#9c179e"
                                                ],
                                                [
                                                    0.4444444444444444,
                                                    "#bd3786"
                                                ],
                                                [
                                                    0.5555555555555556,
                                                    "#d8576b"
                                                ],
                                                [
                                                    0.6666666666666666,
                                                    "#ed7953"
                                                ],
                                                [
                                                    0.7777777777777778,
                                                    "#fb9f3a"
                                                ],
                                                [
                                                    0.8888888888888888,
                                                    "#fdca26"
                                                ],
                                                [
                                                    1,
                                                    "#f0f921"
                                                ]
                                            ]
                                        },
                                        "colorway": [
                                            "#636efa",
                                            "#EF553B",
                                            "#00cc96",
                                            "#ab63fa",
                                            "#FFA15A",
                                            "#19d3f3",
                                            "#FF6692",
                                            "#B6E880",
                                            "#FF97FF",
                                            "#FECB52"
                                        ],
                                        "font": {
                                            "color": "#2a3f5f"
                                        },
                                        "geo": {
                                            "bgcolor": "white",
                                            "lakecolor": "white",
                                            "landcolor": "#E5ECF6",
                                            "showlakes": true,
                                            "showland": true,
                                            "subunitcolor": "white"
                                        },
                                        "hoverlabel": {
                                            "align": "left"
                                        },
                                        "hovermode": "closest",
                                        "mapbox": {
                                            "style": "light"
                                        },
                                        "paper_bgcolor": "white",
                                        "plot_bgcolor": "#E5ECF6",
                                        "polar": {
                                            "angularaxis": {
                                                "gridcolor": "white",
                                                "linecolor": "white",
                                                "ticks": ""
                                            },
                                            "bgcolor": "#E5ECF6",
                                            "radialaxis": {
                                                "gridcolor": "white",
                                                "linecolor": "white",
                                                "ticks": ""
                                            }
                                        },
                                        "scene": {
                                            "xaxis": {
                                                "backgroundcolor": "#E5ECF6",
                                                "gridcolor": "white",
                                                "gridwidth": 2,
                                                "linecolor": "white",
                                                "showbackground": true,
                                                "ticks": "",
                                                "zerolinecolor": "white"
                                            },
                                            "yaxis": {
                                                "backgroundcolor": "#E5ECF6",
                                                "gridcolor": "white",
                                                "gridwidth": 2,
                                                "linecolor": "white",
                                                "showbackground": true,
                                                "ticks": "",
                                                "zerolinecolor": "white"
                                            },
                                            "zaxis": {
                                                "backgroundcolor": "#E5ECF6",
                                                "gridcolor": "white",
                                                "gridwidth": 2,
                                                "linecolor": "white",
                                                "showbackground": true,
                                                "ticks": "",
                                                "zerolinecolor": "white"
                                            }
                                        },
                                        "shapedefaults": {
                                            "line": {
                                                "color": "#2a3f5f"
                                            }
                                        },
                                        "ternary": {
                                            "aaxis": {
                                                "gridcolor": "white",
                                                "linecolor": "white",
                                                "ticks": ""
                                            },
                                            "baxis": {
                                                "gridcolor": "white",
                                                "linecolor": "white",
                                                "ticks": ""
                                            },
                                            "bgcolor": "#E5ECF6",
                                            "caxis": {
                                                "gridcolor": "white",
                                                "linecolor": "white",
                                                "ticks": ""
                                            }
                                        },
                                        "title": {
                                            "x": 0.05
                                        },
                                        "xaxis": {
                                            "automargin": true,
                                            "gridcolor": "white",
                                            "linecolor": "white",
                                            "ticks": "",
                                            "title": {
                                                "standoff": 15
                                            },
                                            "zerolinecolor": "white",
                                            "zerolinewidth": 2
                                        },
                                        "yaxis": {
                                            "automargin": true,
                                            "gridcolor": "white",
                                            "linecolor": "white",
                                            "ticks": "",
                                            "title": {
                                                "standoff": 15
                                            },
                                            "zerolinecolor": "white",
                                            "zerolinewidth": 2
                                        }
                                    }
                                }
                            }
                        }
                    },
                    "metadata": {},
                    "output_type": "display_data"
                }
            ],
            "execution_count": 206
        },
        {
            "cell_type": "markdown",
            "source": [
                "## **Comparing Visits Base on Gender & Device**"
            ],
            "metadata": {
                "azdata_cell_guid": "fd0736bc-a93b-47c7-ac74-78bb01800ed8"
            }
        },
        {
            "cell_type": "code",
            "source": [
                "# pivot table for device and sex\n",
                "\n",
                "flow_device = flow.groupby(['sex', 'device']).user_id.count().reset_index()\n",
                "flow_device_pivot = flow_device.pivot(index = 'sex', columns = 'device', values ='user_id')\n",
                "\n",
                "flow_device_pivot"
            ],
            "metadata": {
                "azdata_cell_guid": "c3b26dd0-0c38-47dd-bd49-550d2fe49ce8",
                "tags": []
            },
            "outputs": [
                {
                    "data": {
                        "text/plain": "device  Desktop  Mobile\nsex                    \nFemale    29997   15078\nMale      30203   15122",
                        "text/html": "<div>\n<style scoped>\n    .dataframe tbody tr th:only-of-type {\n        vertical-align: middle;\n    }\n\n    .dataframe tbody tr th {\n        vertical-align: top;\n    }\n\n    .dataframe thead th {\n        text-align: right;\n    }\n</style>\n<table border=\"1\" class=\"dataframe\">\n  <thead>\n    <tr style=\"text-align: right;\">\n      <th>device</th>\n      <th>Desktop</th>\n      <th>Mobile</th>\n    </tr>\n    <tr>\n      <th>sex</th>\n      <th></th>\n      <th></th>\n    </tr>\n  </thead>\n  <tbody>\n    <tr>\n      <th>Female</th>\n      <td>29997</td>\n      <td>15078</td>\n    </tr>\n    <tr>\n      <th>Male</th>\n      <td>30203</td>\n      <td>15122</td>\n    </tr>\n  </tbody>\n</table>\n</div>"
                    },
                    "metadata": {},
                    "execution_count": 207,
                    "output_type": "execute_result"
                }
            ],
            "execution_count": 207
        },
        {
            "cell_type": "markdown",
            "source": [
                "## **Comparing Visits per Per Page base on Gender & Device**"
            ],
            "metadata": {
                "azdata_cell_guid": "f5f7925b-6baf-485c-8120-7cbcecfd42e9"
            }
        },
        {
            "cell_type": "code",
            "source": [
                "# create function for pivot table \n",
                "\n",
                "def pages_pivot(page):\n",
                "    pages_pivot = flow.groupby(['sex', 'device', page]).user_id.count().reset_index()\n",
                "    return pages_pivot\n",
                ""
            ],
            "metadata": {
                "azdata_cell_guid": "9a11e66c-f3b8-49ef-bb50-59eab1c1a83c",
                "tags": []
            },
            "outputs": [],
            "execution_count": 208
        },
        {
            "cell_type": "code",
            "source": [
                "pages_pivot('Home')"
            ],
            "metadata": {
                "azdata_cell_guid": "be244b3c-9503-47c6-88d7-581c264d09d7"
            },
            "outputs": [
                {
                    "data": {
                        "text/plain": "      sex   device       Home  user_id\n0  Female  Desktop  home_page    29997\n1  Female   Mobile  home_page    15078\n2    Male  Desktop  home_page    30203\n3    Male   Mobile  home_page    15122",
                        "text/html": "<div>\n<style scoped>\n    .dataframe tbody tr th:only-of-type {\n        vertical-align: middle;\n    }\n\n    .dataframe tbody tr th {\n        vertical-align: top;\n    }\n\n    .dataframe thead th {\n        text-align: right;\n    }\n</style>\n<table border=\"1\" class=\"dataframe\">\n  <thead>\n    <tr style=\"text-align: right;\">\n      <th></th>\n      <th>sex</th>\n      <th>device</th>\n      <th>Home</th>\n      <th>user_id</th>\n    </tr>\n  </thead>\n  <tbody>\n    <tr>\n      <th>0</th>\n      <td>Female</td>\n      <td>Desktop</td>\n      <td>home_page</td>\n      <td>29997</td>\n    </tr>\n    <tr>\n      <th>1</th>\n      <td>Female</td>\n      <td>Mobile</td>\n      <td>home_page</td>\n      <td>15078</td>\n    </tr>\n    <tr>\n      <th>2</th>\n      <td>Male</td>\n      <td>Desktop</td>\n      <td>home_page</td>\n      <td>30203</td>\n    </tr>\n    <tr>\n      <th>3</th>\n      <td>Male</td>\n      <td>Mobile</td>\n      <td>home_page</td>\n      <td>15122</td>\n    </tr>\n  </tbody>\n</table>\n</div>"
                    },
                    "metadata": {},
                    "execution_count": 209,
                    "output_type": "execute_result"
                }
            ],
            "execution_count": 209
        },
        {
            "cell_type": "code",
            "source": [
                "pages_pivot('Search')"
            ],
            "metadata": {
                "azdata_cell_guid": "0d61e916-9840-4f81-bd25-312d99320eef"
            },
            "outputs": [
                {
                    "data": {
                        "text/plain": "      sex   device       Search  user_id\n0  Female  Desktop  search_page    15091\n1  Female   Mobile  search_page     7585\n2    Male  Desktop  search_page    15009\n3    Male   Mobile  search_page     7515",
                        "text/html": "<div>\n<style scoped>\n    .dataframe tbody tr th:only-of-type {\n        vertical-align: middle;\n    }\n\n    .dataframe tbody tr th {\n        vertical-align: top;\n    }\n\n    .dataframe thead th {\n        text-align: right;\n    }\n</style>\n<table border=\"1\" class=\"dataframe\">\n  <thead>\n    <tr style=\"text-align: right;\">\n      <th></th>\n      <th>sex</th>\n      <th>device</th>\n      <th>Search</th>\n      <th>user_id</th>\n    </tr>\n  </thead>\n  <tbody>\n    <tr>\n      <th>0</th>\n      <td>Female</td>\n      <td>Desktop</td>\n      <td>search_page</td>\n      <td>15091</td>\n    </tr>\n    <tr>\n      <th>1</th>\n      <td>Female</td>\n      <td>Mobile</td>\n      <td>search_page</td>\n      <td>7585</td>\n    </tr>\n    <tr>\n      <th>2</th>\n      <td>Male</td>\n      <td>Desktop</td>\n      <td>search_page</td>\n      <td>15009</td>\n    </tr>\n    <tr>\n      <th>3</th>\n      <td>Male</td>\n      <td>Mobile</td>\n      <td>search_page</td>\n      <td>7515</td>\n    </tr>\n  </tbody>\n</table>\n</div>"
                    },
                    "metadata": {},
                    "execution_count": 210,
                    "output_type": "execute_result"
                }
            ],
            "execution_count": 210
        },
        {
            "cell_type": "code",
            "source": [
                "pages_pivot('Payment')"
            ],
            "metadata": {
                "azdata_cell_guid": "5941bd96-fb19-4e83-9807-0961c3e0f87b"
            },
            "outputs": [
                {
                    "data": {
                        "text/plain": "      sex   device       Payment  user_id\n0  Female  Desktop  payment_page     1530\n1  Female   Mobile  payment_page     1570\n2    Male  Desktop  payment_page     1480\n3    Male   Mobile  payment_page     1450",
                        "text/html": "<div>\n<style scoped>\n    .dataframe tbody tr th:only-of-type {\n        vertical-align: middle;\n    }\n\n    .dataframe tbody tr th {\n        vertical-align: top;\n    }\n\n    .dataframe thead th {\n        text-align: right;\n    }\n</style>\n<table border=\"1\" class=\"dataframe\">\n  <thead>\n    <tr style=\"text-align: right;\">\n      <th></th>\n      <th>sex</th>\n      <th>device</th>\n      <th>Payment</th>\n      <th>user_id</th>\n    </tr>\n  </thead>\n  <tbody>\n    <tr>\n      <th>0</th>\n      <td>Female</td>\n      <td>Desktop</td>\n      <td>payment_page</td>\n      <td>1530</td>\n    </tr>\n    <tr>\n      <th>1</th>\n      <td>Female</td>\n      <td>Mobile</td>\n      <td>payment_page</td>\n      <td>1570</td>\n    </tr>\n    <tr>\n      <th>2</th>\n      <td>Male</td>\n      <td>Desktop</td>\n      <td>payment_page</td>\n      <td>1480</td>\n    </tr>\n    <tr>\n      <th>3</th>\n      <td>Male</td>\n      <td>Mobile</td>\n      <td>payment_page</td>\n      <td>1450</td>\n    </tr>\n  </tbody>\n</table>\n</div>"
                    },
                    "metadata": {},
                    "execution_count": 211,
                    "output_type": "execute_result"
                }
            ],
            "execution_count": 211
        },
        {
            "cell_type": "code",
            "source": [
                "pages_pivot('Confirmation')"
            ],
            "metadata": {
                "azdata_cell_guid": "b408c0e1-b8a6-4758-bcf3-6e60754669c3"
            },
            "outputs": [
                {
                    "data": {
                        "text/plain": "      sex   device               Confirmation  user_id\n0  Female  Desktop  payment_confirmation_page       74\n1  Female   Mobile  payment_confirmation_page      167\n2    Male  Desktop  payment_confirmation_page       76\n3    Male   Mobile  payment_confirmation_page      135",
                        "text/html": "<div>\n<style scoped>\n    .dataframe tbody tr th:only-of-type {\n        vertical-align: middle;\n    }\n\n    .dataframe tbody tr th {\n        vertical-align: top;\n    }\n\n    .dataframe thead th {\n        text-align: right;\n    }\n</style>\n<table border=\"1\" class=\"dataframe\">\n  <thead>\n    <tr style=\"text-align: right;\">\n      <th></th>\n      <th>sex</th>\n      <th>device</th>\n      <th>Confirmation</th>\n      <th>user_id</th>\n    </tr>\n  </thead>\n  <tbody>\n    <tr>\n      <th>0</th>\n      <td>Female</td>\n      <td>Desktop</td>\n      <td>payment_confirmation_page</td>\n      <td>74</td>\n    </tr>\n    <tr>\n      <th>1</th>\n      <td>Female</td>\n      <td>Mobile</td>\n      <td>payment_confirmation_page</td>\n      <td>167</td>\n    </tr>\n    <tr>\n      <th>2</th>\n      <td>Male</td>\n      <td>Desktop</td>\n      <td>payment_confirmation_page</td>\n      <td>76</td>\n    </tr>\n    <tr>\n      <th>3</th>\n      <td>Male</td>\n      <td>Mobile</td>\n      <td>payment_confirmation_page</td>\n      <td>135</td>\n    </tr>\n  </tbody>\n</table>\n</div>"
                    },
                    "metadata": {},
                    "execution_count": 212,
                    "output_type": "execute_result"
                }
            ],
            "execution_count": 212
        },
        {
            "cell_type": "code",
            "source": [
                "# create dataframe table : device_gender_sales\n",
                "\n",
                "data = {'Stage' : ['Home', 'Search', 'Payment', ' Confirmation'],\n",
                "        'Desktop Male' : [30203, 15009, 1480, 76],\n",
                "        'Mobile Male' : [15122, 7515, 1450, 135], \n",
                "        'Desktop Female':[29997, 15091, 1530, 74], \n",
                "        'Mobile Female':[15078, 7585, 1570, 167]}\n",
                "\n",
                "device_gender_sales = pd.DataFrame(data)\n",
                "\n",
                "device_gender_sales.T"
            ],
            "metadata": {
                "azdata_cell_guid": "a657e749-7531-4139-b820-9fc216276d12"
            },
            "outputs": [
                {
                    "data": {
                        "text/plain": "                    0       1        2              3\nStage            Home  Search  Payment   Confirmation\nDesktop Male    30203   15009     1480             76\nMobile Male     15122    7515     1450            135\nDesktop Female  29997   15091     1530             74\nMobile Female   15078    7585     1570            167",
                        "text/html": "<div>\n<style scoped>\n    .dataframe tbody tr th:only-of-type {\n        vertical-align: middle;\n    }\n\n    .dataframe tbody tr th {\n        vertical-align: top;\n    }\n\n    .dataframe thead th {\n        text-align: right;\n    }\n</style>\n<table border=\"1\" class=\"dataframe\">\n  <thead>\n    <tr style=\"text-align: right;\">\n      <th></th>\n      <th>0</th>\n      <th>1</th>\n      <th>2</th>\n      <th>3</th>\n    </tr>\n  </thead>\n  <tbody>\n    <tr>\n      <th>Stage</th>\n      <td>Home</td>\n      <td>Search</td>\n      <td>Payment</td>\n      <td>Confirmation</td>\n    </tr>\n    <tr>\n      <th>Desktop Male</th>\n      <td>30203</td>\n      <td>15009</td>\n      <td>1480</td>\n      <td>76</td>\n    </tr>\n    <tr>\n      <th>Mobile Male</th>\n      <td>15122</td>\n      <td>7515</td>\n      <td>1450</td>\n      <td>135</td>\n    </tr>\n    <tr>\n      <th>Desktop Female</th>\n      <td>29997</td>\n      <td>15091</td>\n      <td>1530</td>\n      <td>74</td>\n    </tr>\n    <tr>\n      <th>Mobile Female</th>\n      <td>15078</td>\n      <td>7585</td>\n      <td>1570</td>\n      <td>167</td>\n    </tr>\n  </tbody>\n</table>\n</div>"
                    },
                    "metadata": {},
                    "execution_count": 213,
                    "output_type": "execute_result"
                }
            ],
            "execution_count": 213
        },
        {
            "cell_type": "code",
            "source": [
                "# plot the funnel \n",
                "\n",
                "fig = px.funnel(device_gender_sales, x = ['Desktop Male', 'Mobile Male', \n",
                "                                            'Desktop Female', 'Mobile Female'],\n",
                "                                            y = 'Stage')\n",
                "\n",
                "fig.show()"
            ],
            "metadata": {
                "azdata_cell_guid": "1c0b0a15-b80c-44ef-bd4d-822f9f403ca1",
                "tags": []
            },
            "outputs": [
                {
                    "data": {
                        "application/vnd.plotly.v1+json": {
                            "config": {
                                "plotlyServerURL": "https://plot.ly"
                            },
                            "data": [
                                {
                                    "hovertemplate": "variable=Desktop Male<br>value=%{x}<br>Stage=%{y}<extra></extra>",
                                    "legendgroup": "Desktop Male",
                                    "marker": {
                                        "color": "#636efa"
                                    },
                                    "name": "Desktop Male",
                                    "orientation": "h",
                                    "showlegend": true,
                                    "type": "funnel",
                                    "x": [
                                        30203,
                                        15009,
                                        1480,
                                        76
                                    ],
                                    "xaxis": "x",
                                    "y": [
                                        "Home",
                                        "Search",
                                        "Payment",
                                        " Confirmation"
                                    ],
                                    "yaxis": "y"
                                },
                                {
                                    "hovertemplate": "variable=Mobile Male<br>value=%{x}<br>Stage=%{y}<extra></extra>",
                                    "legendgroup": "Mobile Male",
                                    "marker": {
                                        "color": "#EF553B"
                                    },
                                    "name": "Mobile Male",
                                    "orientation": "h",
                                    "showlegend": true,
                                    "type": "funnel",
                                    "x": [
                                        15122,
                                        7515,
                                        1450,
                                        135
                                    ],
                                    "xaxis": "x",
                                    "y": [
                                        "Home",
                                        "Search",
                                        "Payment",
                                        " Confirmation"
                                    ],
                                    "yaxis": "y"
                                },
                                {
                                    "hovertemplate": "variable=Desktop Female<br>value=%{x}<br>Stage=%{y}<extra></extra>",
                                    "legendgroup": "Desktop Female",
                                    "marker": {
                                        "color": "#00cc96"
                                    },
                                    "name": "Desktop Female",
                                    "orientation": "h",
                                    "showlegend": true,
                                    "type": "funnel",
                                    "x": [
                                        29997,
                                        15091,
                                        1530,
                                        74
                                    ],
                                    "xaxis": "x",
                                    "y": [
                                        "Home",
                                        "Search",
                                        "Payment",
                                        " Confirmation"
                                    ],
                                    "yaxis": "y"
                                },
                                {
                                    "hovertemplate": "variable=Mobile Female<br>value=%{x}<br>Stage=%{y}<extra></extra>",
                                    "legendgroup": "Mobile Female",
                                    "marker": {
                                        "color": "#ab63fa"
                                    },
                                    "name": "Mobile Female",
                                    "orientation": "h",
                                    "showlegend": true,
                                    "type": "funnel",
                                    "x": [
                                        15078,
                                        7585,
                                        1570,
                                        167
                                    ],
                                    "xaxis": "x",
                                    "y": [
                                        "Home",
                                        "Search",
                                        "Payment",
                                        " Confirmation"
                                    ],
                                    "yaxis": "y"
                                }
                            ],
                            "layout": {
                                "legend": {
                                    "title": {
                                        "text": "variable"
                                    },
                                    "tracegroupgap": 0
                                },
                                "margin": {
                                    "t": 60
                                },
                                "template": {
                                    "data": {
                                        "bar": [
                                            {
                                                "error_x": {
                                                    "color": "#2a3f5f"
                                                },
                                                "error_y": {
                                                    "color": "#2a3f5f"
                                                },
                                                "marker": {
                                                    "line": {
                                                        "color": "#E5ECF6",
                                                        "width": 0.5
                                                    }
                                                },
                                                "type": "bar"
                                            }
                                        ],
                                        "barpolar": [
                                            {
                                                "marker": {
                                                    "line": {
                                                        "color": "#E5ECF6",
                                                        "width": 0.5
                                                    }
                                                },
                                                "type": "barpolar"
                                            }
                                        ],
                                        "carpet": [
                                            {
                                                "aaxis": {
                                                    "endlinecolor": "#2a3f5f",
                                                    "gridcolor": "white",
                                                    "linecolor": "white",
                                                    "minorgridcolor": "white",
                                                    "startlinecolor": "#2a3f5f"
                                                },
                                                "baxis": {
                                                    "endlinecolor": "#2a3f5f",
                                                    "gridcolor": "white",
                                                    "linecolor": "white",
                                                    "minorgridcolor": "white",
                                                    "startlinecolor": "#2a3f5f"
                                                },
                                                "type": "carpet"
                                            }
                                        ],
                                        "choropleth": [
                                            {
                                                "colorbar": {
                                                    "outlinewidth": 0,
                                                    "ticks": ""
                                                },
                                                "type": "choropleth"
                                            }
                                        ],
                                        "contour": [
                                            {
                                                "colorbar": {
                                                    "outlinewidth": 0,
                                                    "ticks": ""
                                                },
                                                "colorscale": [
                                                    [
                                                        0,
                                                        "#0d0887"
                                                    ],
                                                    [
                                                        0.1111111111111111,
                                                        "#46039f"
                                                    ],
                                                    [
                                                        0.2222222222222222,
                                                        "#7201a8"
                                                    ],
                                                    [
                                                        0.3333333333333333,
                                                        "#9c179e"
                                                    ],
                                                    [
                                                        0.4444444444444444,
                                                        "#bd3786"
                                                    ],
                                                    [
                                                        0.5555555555555556,
                                                        "#d8576b"
                                                    ],
                                                    [
                                                        0.6666666666666666,
                                                        "#ed7953"
                                                    ],
                                                    [
                                                        0.7777777777777778,
                                                        "#fb9f3a"
                                                    ],
                                                    [
                                                        0.8888888888888888,
                                                        "#fdca26"
                                                    ],
                                                    [
                                                        1,
                                                        "#f0f921"
                                                    ]
                                                ],
                                                "type": "contour"
                                            }
                                        ],
                                        "contourcarpet": [
                                            {
                                                "colorbar": {
                                                    "outlinewidth": 0,
                                                    "ticks": ""
                                                },
                                                "type": "contourcarpet"
                                            }
                                        ],
                                        "heatmap": [
                                            {
                                                "colorbar": {
                                                    "outlinewidth": 0,
                                                    "ticks": ""
                                                },
                                                "colorscale": [
                                                    [
                                                        0,
                                                        "#0d0887"
                                                    ],
                                                    [
                                                        0.1111111111111111,
                                                        "#46039f"
                                                    ],
                                                    [
                                                        0.2222222222222222,
                                                        "#7201a8"
                                                    ],
                                                    [
                                                        0.3333333333333333,
                                                        "#9c179e"
                                                    ],
                                                    [
                                                        0.4444444444444444,
                                                        "#bd3786"
                                                    ],
                                                    [
                                                        0.5555555555555556,
                                                        "#d8576b"
                                                    ],
                                                    [
                                                        0.6666666666666666,
                                                        "#ed7953"
                                                    ],
                                                    [
                                                        0.7777777777777778,
                                                        "#fb9f3a"
                                                    ],
                                                    [
                                                        0.8888888888888888,
                                                        "#fdca26"
                                                    ],
                                                    [
                                                        1,
                                                        "#f0f921"
                                                    ]
                                                ],
                                                "type": "heatmap"
                                            }
                                        ],
                                        "heatmapgl": [
                                            {
                                                "colorbar": {
                                                    "outlinewidth": 0,
                                                    "ticks": ""
                                                },
                                                "colorscale": [
                                                    [
                                                        0,
                                                        "#0d0887"
                                                    ],
                                                    [
                                                        0.1111111111111111,
                                                        "#46039f"
                                                    ],
                                                    [
                                                        0.2222222222222222,
                                                        "#7201a8"
                                                    ],
                                                    [
                                                        0.3333333333333333,
                                                        "#9c179e"
                                                    ],
                                                    [
                                                        0.4444444444444444,
                                                        "#bd3786"
                                                    ],
                                                    [
                                                        0.5555555555555556,
                                                        "#d8576b"
                                                    ],
                                                    [
                                                        0.6666666666666666,
                                                        "#ed7953"
                                                    ],
                                                    [
                                                        0.7777777777777778,
                                                        "#fb9f3a"
                                                    ],
                                                    [
                                                        0.8888888888888888,
                                                        "#fdca26"
                                                    ],
                                                    [
                                                        1,
                                                        "#f0f921"
                                                    ]
                                                ],
                                                "type": "heatmapgl"
                                            }
                                        ],
                                        "histogram": [
                                            {
                                                "marker": {
                                                    "colorbar": {
                                                        "outlinewidth": 0,
                                                        "ticks": ""
                                                    }
                                                },
                                                "type": "histogram"
                                            }
                                        ],
                                        "histogram2d": [
                                            {
                                                "colorbar": {
                                                    "outlinewidth": 0,
                                                    "ticks": ""
                                                },
                                                "colorscale": [
                                                    [
                                                        0,
                                                        "#0d0887"
                                                    ],
                                                    [
                                                        0.1111111111111111,
                                                        "#46039f"
                                                    ],
                                                    [
                                                        0.2222222222222222,
                                                        "#7201a8"
                                                    ],
                                                    [
                                                        0.3333333333333333,
                                                        "#9c179e"
                                                    ],
                                                    [
                                                        0.4444444444444444,
                                                        "#bd3786"
                                                    ],
                                                    [
                                                        0.5555555555555556,
                                                        "#d8576b"
                                                    ],
                                                    [
                                                        0.6666666666666666,
                                                        "#ed7953"
                                                    ],
                                                    [
                                                        0.7777777777777778,
                                                        "#fb9f3a"
                                                    ],
                                                    [
                                                        0.8888888888888888,
                                                        "#fdca26"
                                                    ],
                                                    [
                                                        1,
                                                        "#f0f921"
                                                    ]
                                                ],
                                                "type": "histogram2d"
                                            }
                                        ],
                                        "histogram2dcontour": [
                                            {
                                                "colorbar": {
                                                    "outlinewidth": 0,
                                                    "ticks": ""
                                                },
                                                "colorscale": [
                                                    [
                                                        0,
                                                        "#0d0887"
                                                    ],
                                                    [
                                                        0.1111111111111111,
                                                        "#46039f"
                                                    ],
                                                    [
                                                        0.2222222222222222,
                                                        "#7201a8"
                                                    ],
                                                    [
                                                        0.3333333333333333,
                                                        "#9c179e"
                                                    ],
                                                    [
                                                        0.4444444444444444,
                                                        "#bd3786"
                                                    ],
                                                    [
                                                        0.5555555555555556,
                                                        "#d8576b"
                                                    ],
                                                    [
                                                        0.6666666666666666,
                                                        "#ed7953"
                                                    ],
                                                    [
                                                        0.7777777777777778,
                                                        "#fb9f3a"
                                                    ],
                                                    [
                                                        0.8888888888888888,
                                                        "#fdca26"
                                                    ],
                                                    [
                                                        1,
                                                        "#f0f921"
                                                    ]
                                                ],
                                                "type": "histogram2dcontour"
                                            }
                                        ],
                                        "mesh3d": [
                                            {
                                                "colorbar": {
                                                    "outlinewidth": 0,
                                                    "ticks": ""
                                                },
                                                "type": "mesh3d"
                                            }
                                        ],
                                        "parcoords": [
                                            {
                                                "line": {
                                                    "colorbar": {
                                                        "outlinewidth": 0,
                                                        "ticks": ""
                                                    }
                                                },
                                                "type": "parcoords"
                                            }
                                        ],
                                        "pie": [
                                            {
                                                "automargin": true,
                                                "type": "pie"
                                            }
                                        ],
                                        "scatter": [
                                            {
                                                "marker": {
                                                    "colorbar": {
                                                        "outlinewidth": 0,
                                                        "ticks": ""
                                                    }
                                                },
                                                "type": "scatter"
                                            }
                                        ],
                                        "scatter3d": [
                                            {
                                                "line": {
                                                    "colorbar": {
                                                        "outlinewidth": 0,
                                                        "ticks": ""
                                                    }
                                                },
                                                "marker": {
                                                    "colorbar": {
                                                        "outlinewidth": 0,
                                                        "ticks": ""
                                                    }
                                                },
                                                "type": "scatter3d"
                                            }
                                        ],
                                        "scattercarpet": [
                                            {
                                                "marker": {
                                                    "colorbar": {
                                                        "outlinewidth": 0,
                                                        "ticks": ""
                                                    }
                                                },
                                                "type": "scattercarpet"
                                            }
                                        ],
                                        "scattergeo": [
                                            {
                                                "marker": {
                                                    "colorbar": {
                                                        "outlinewidth": 0,
                                                        "ticks": ""
                                                    }
                                                },
                                                "type": "scattergeo"
                                            }
                                        ],
                                        "scattergl": [
                                            {
                                                "marker": {
                                                    "colorbar": {
                                                        "outlinewidth": 0,
                                                        "ticks": ""
                                                    }
                                                },
                                                "type": "scattergl"
                                            }
                                        ],
                                        "scattermapbox": [
                                            {
                                                "marker": {
                                                    "colorbar": {
                                                        "outlinewidth": 0,
                                                        "ticks": ""
                                                    }
                                                },
                                                "type": "scattermapbox"
                                            }
                                        ],
                                        "scatterpolar": [
                                            {
                                                "marker": {
                                                    "colorbar": {
                                                        "outlinewidth": 0,
                                                        "ticks": ""
                                                    }
                                                },
                                                "type": "scatterpolar"
                                            }
                                        ],
                                        "scatterpolargl": [
                                            {
                                                "marker": {
                                                    "colorbar": {
                                                        "outlinewidth": 0,
                                                        "ticks": ""
                                                    }
                                                },
                                                "type": "scatterpolargl"
                                            }
                                        ],
                                        "scatterternary": [
                                            {
                                                "marker": {
                                                    "colorbar": {
                                                        "outlinewidth": 0,
                                                        "ticks": ""
                                                    }
                                                },
                                                "type": "scatterternary"
                                            }
                                        ],
                                        "surface": [
                                            {
                                                "colorbar": {
                                                    "outlinewidth": 0,
                                                    "ticks": ""
                                                },
                                                "colorscale": [
                                                    [
                                                        0,
                                                        "#0d0887"
                                                    ],
                                                    [
                                                        0.1111111111111111,
                                                        "#46039f"
                                                    ],
                                                    [
                                                        0.2222222222222222,
                                                        "#7201a8"
                                                    ],
                                                    [
                                                        0.3333333333333333,
                                                        "#9c179e"
                                                    ],
                                                    [
                                                        0.4444444444444444,
                                                        "#bd3786"
                                                    ],
                                                    [
                                                        0.5555555555555556,
                                                        "#d8576b"
                                                    ],
                                                    [
                                                        0.6666666666666666,
                                                        "#ed7953"
                                                    ],
                                                    [
                                                        0.7777777777777778,
                                                        "#fb9f3a"
                                                    ],
                                                    [
                                                        0.8888888888888888,
                                                        "#fdca26"
                                                    ],
                                                    [
                                                        1,
                                                        "#f0f921"
                                                    ]
                                                ],
                                                "type": "surface"
                                            }
                                        ],
                                        "table": [
                                            {
                                                "cells": {
                                                    "fill": {
                                                        "color": "#EBF0F8"
                                                    },
                                                    "line": {
                                                        "color": "white"
                                                    }
                                                },
                                                "header": {
                                                    "fill": {
                                                        "color": "#C8D4E3"
                                                    },
                                                    "line": {
                                                        "color": "white"
                                                    }
                                                },
                                                "type": "table"
                                            }
                                        ]
                                    },
                                    "layout": {
                                        "annotationdefaults": {
                                            "arrowcolor": "#2a3f5f",
                                            "arrowhead": 0,
                                            "arrowwidth": 1
                                        },
                                        "coloraxis": {
                                            "colorbar": {
                                                "outlinewidth": 0,
                                                "ticks": ""
                                            }
                                        },
                                        "colorscale": {
                                            "diverging": [
                                                [
                                                    0,
                                                    "#8e0152"
                                                ],
                                                [
                                                    0.1,
                                                    "#c51b7d"
                                                ],
                                                [
                                                    0.2,
                                                    "#de77ae"
                                                ],
                                                [
                                                    0.3,
                                                    "#f1b6da"
                                                ],
                                                [
                                                    0.4,
                                                    "#fde0ef"
                                                ],
                                                [
                                                    0.5,
                                                    "#f7f7f7"
                                                ],
                                                [
                                                    0.6,
                                                    "#e6f5d0"
                                                ],
                                                [
                                                    0.7,
                                                    "#b8e186"
                                                ],
                                                [
                                                    0.8,
                                                    "#7fbc41"
                                                ],
                                                [
                                                    0.9,
                                                    "#4d9221"
                                                ],
                                                [
                                                    1,
                                                    "#276419"
                                                ]
                                            ],
                                            "sequential": [
                                                [
                                                    0,
                                                    "#0d0887"
                                                ],
                                                [
                                                    0.1111111111111111,
                                                    "#46039f"
                                                ],
                                                [
                                                    0.2222222222222222,
                                                    "#7201a8"
                                                ],
                                                [
                                                    0.3333333333333333,
                                                    "#9c179e"
                                                ],
                                                [
                                                    0.4444444444444444,
                                                    "#bd3786"
                                                ],
                                                [
                                                    0.5555555555555556,
                                                    "#d8576b"
                                                ],
                                                [
                                                    0.6666666666666666,
                                                    "#ed7953"
                                                ],
                                                [
                                                    0.7777777777777778,
                                                    "#fb9f3a"
                                                ],
                                                [
                                                    0.8888888888888888,
                                                    "#fdca26"
                                                ],
                                                [
                                                    1,
                                                    "#f0f921"
                                                ]
                                            ],
                                            "sequentialminus": [
                                                [
                                                    0,
                                                    "#0d0887"
                                                ],
                                                [
                                                    0.1111111111111111,
                                                    "#46039f"
                                                ],
                                                [
                                                    0.2222222222222222,
                                                    "#7201a8"
                                                ],
                                                [
                                                    0.3333333333333333,
                                                    "#9c179e"
                                                ],
                                                [
                                                    0.4444444444444444,
                                                    "#bd3786"
                                                ],
                                                [
                                                    0.5555555555555556,
                                                    "#d8576b"
                                                ],
                                                [
                                                    0.6666666666666666,
                                                    "#ed7953"
                                                ],
                                                [
                                                    0.7777777777777778,
                                                    "#fb9f3a"
                                                ],
                                                [
                                                    0.8888888888888888,
                                                    "#fdca26"
                                                ],
                                                [
                                                    1,
                                                    "#f0f921"
                                                ]
                                            ]
                                        },
                                        "colorway": [
                                            "#636efa",
                                            "#EF553B",
                                            "#00cc96",
                                            "#ab63fa",
                                            "#FFA15A",
                                            "#19d3f3",
                                            "#FF6692",
                                            "#B6E880",
                                            "#FF97FF",
                                            "#FECB52"
                                        ],
                                        "font": {
                                            "color": "#2a3f5f"
                                        },
                                        "geo": {
                                            "bgcolor": "white",
                                            "lakecolor": "white",
                                            "landcolor": "#E5ECF6",
                                            "showlakes": true,
                                            "showland": true,
                                            "subunitcolor": "white"
                                        },
                                        "hoverlabel": {
                                            "align": "left"
                                        },
                                        "hovermode": "closest",
                                        "mapbox": {
                                            "style": "light"
                                        },
                                        "paper_bgcolor": "white",
                                        "plot_bgcolor": "#E5ECF6",
                                        "polar": {
                                            "angularaxis": {
                                                "gridcolor": "white",
                                                "linecolor": "white",
                                                "ticks": ""
                                            },
                                            "bgcolor": "#E5ECF6",
                                            "radialaxis": {
                                                "gridcolor": "white",
                                                "linecolor": "white",
                                                "ticks": ""
                                            }
                                        },
                                        "scene": {
                                            "xaxis": {
                                                "backgroundcolor": "#E5ECF6",
                                                "gridcolor": "white",
                                                "gridwidth": 2,
                                                "linecolor": "white",
                                                "showbackground": true,
                                                "ticks": "",
                                                "zerolinecolor": "white"
                                            },
                                            "yaxis": {
                                                "backgroundcolor": "#E5ECF6",
                                                "gridcolor": "white",
                                                "gridwidth": 2,
                                                "linecolor": "white",
                                                "showbackground": true,
                                                "ticks": "",
                                                "zerolinecolor": "white"
                                            },
                                            "zaxis": {
                                                "backgroundcolor": "#E5ECF6",
                                                "gridcolor": "white",
                                                "gridwidth": 2,
                                                "linecolor": "white",
                                                "showbackground": true,
                                                "ticks": "",
                                                "zerolinecolor": "white"
                                            }
                                        },
                                        "shapedefaults": {
                                            "line": {
                                                "color": "#2a3f5f"
                                            }
                                        },
                                        "ternary": {
                                            "aaxis": {
                                                "gridcolor": "white",
                                                "linecolor": "white",
                                                "ticks": ""
                                            },
                                            "baxis": {
                                                "gridcolor": "white",
                                                "linecolor": "white",
                                                "ticks": ""
                                            },
                                            "bgcolor": "#E5ECF6",
                                            "caxis": {
                                                "gridcolor": "white",
                                                "linecolor": "white",
                                                "ticks": ""
                                            }
                                        },
                                        "title": {
                                            "x": 0.05
                                        },
                                        "xaxis": {
                                            "automargin": true,
                                            "gridcolor": "white",
                                            "linecolor": "white",
                                            "ticks": "",
                                            "title": {
                                                "standoff": 15
                                            },
                                            "zerolinecolor": "white",
                                            "zerolinewidth": 2
                                        },
                                        "yaxis": {
                                            "automargin": true,
                                            "gridcolor": "white",
                                            "linecolor": "white",
                                            "ticks": "",
                                            "title": {
                                                "standoff": 15
                                            },
                                            "zerolinecolor": "white",
                                            "zerolinewidth": 2
                                        }
                                    }
                                },
                                "xaxis": {
                                    "anchor": "y",
                                    "domain": [
                                        0,
                                        1
                                    ],
                                    "title": {
                                        "text": "value"
                                    }
                                },
                                "yaxis": {
                                    "anchor": "x",
                                    "domain": [
                                        0,
                                        1
                                    ],
                                    "title": {
                                        "text": "Stage"
                                    }
                                }
                            }
                        }
                    },
                    "metadata": {},
                    "output_type": "display_data"
                }
            ],
            "execution_count": 214
        },
        {
            "cell_type": "markdown",
            "source": [
                "## **Customer Churn**"
            ],
            "metadata": {
                "azdata_cell_guid": "b25f9164-74da-4792-a5fb-ccbbd66a0828"
            }
        },
        {
            "cell_type": "code",
            "source": [
                "flow.head()"
            ],
            "metadata": {
                "azdata_cell_guid": "59575b6d-60f6-4b7f-9e37-a0195fced340"
            },
            "outputs": [
                {
                    "data": {
                        "text/plain": "   user_id        date   device     sex       Home       Search Payment  \\\n0   450007  2015-02-28  Desktop  Female  home_page          NaN     NaN   \n1   756838  2015-01-13  Desktop    Male  home_page          NaN     NaN   \n2   568983  2015-04-09  Desktop    Male  home_page  search_page     NaN   \n3   190794  2015-02-18  Desktop  Female  home_page  search_page     NaN   \n4   537909  2015-01-15  Desktop    Male  home_page          NaN     NaN   \n\n  Confirmation  \n0          NaN  \n1          NaN  \n2          NaN  \n3          NaN  \n4          NaN  ",
                        "text/html": "<div>\n<style scoped>\n    .dataframe tbody tr th:only-of-type {\n        vertical-align: middle;\n    }\n\n    .dataframe tbody tr th {\n        vertical-align: top;\n    }\n\n    .dataframe thead th {\n        text-align: right;\n    }\n</style>\n<table border=\"1\" class=\"dataframe\">\n  <thead>\n    <tr style=\"text-align: right;\">\n      <th></th>\n      <th>user_id</th>\n      <th>date</th>\n      <th>device</th>\n      <th>sex</th>\n      <th>Home</th>\n      <th>Search</th>\n      <th>Payment</th>\n      <th>Confirmation</th>\n    </tr>\n  </thead>\n  <tbody>\n    <tr>\n      <th>0</th>\n      <td>450007</td>\n      <td>2015-02-28</td>\n      <td>Desktop</td>\n      <td>Female</td>\n      <td>home_page</td>\n      <td>NaN</td>\n      <td>NaN</td>\n      <td>NaN</td>\n    </tr>\n    <tr>\n      <th>1</th>\n      <td>756838</td>\n      <td>2015-01-13</td>\n      <td>Desktop</td>\n      <td>Male</td>\n      <td>home_page</td>\n      <td>NaN</td>\n      <td>NaN</td>\n      <td>NaN</td>\n    </tr>\n    <tr>\n      <th>2</th>\n      <td>568983</td>\n      <td>2015-04-09</td>\n      <td>Desktop</td>\n      <td>Male</td>\n      <td>home_page</td>\n      <td>search_page</td>\n      <td>NaN</td>\n      <td>NaN</td>\n    </tr>\n    <tr>\n      <th>3</th>\n      <td>190794</td>\n      <td>2015-02-18</td>\n      <td>Desktop</td>\n      <td>Female</td>\n      <td>home_page</td>\n      <td>search_page</td>\n      <td>NaN</td>\n      <td>NaN</td>\n    </tr>\n    <tr>\n      <th>4</th>\n      <td>537909</td>\n      <td>2015-01-15</td>\n      <td>Desktop</td>\n      <td>Male</td>\n      <td>home_page</td>\n      <td>NaN</td>\n      <td>NaN</td>\n      <td>NaN</td>\n    </tr>\n  </tbody>\n</table>\n</div>"
                    },
                    "metadata": {},
                    "execution_count": 215,
                    "output_type": "execute_result"
                }
            ],
            "execution_count": 215
        },
        {
            "cell_type": "code",
            "source": [
                "# create month column\n",
                "\n",
                "flow['month'] = pd.DatetimeIndex(flow['date']).month\n",
                "\n",
                "flow.head()"
            ],
            "metadata": {
                "azdata_cell_guid": "1c357b61-fcb9-4b2e-a58b-67f0a63366c1"
            },
            "outputs": [
                {
                    "data": {
                        "text/plain": "   user_id        date   device     sex       Home       Search Payment  \\\n0   450007  2015-02-28  Desktop  Female  home_page          NaN     NaN   \n1   756838  2015-01-13  Desktop    Male  home_page          NaN     NaN   \n2   568983  2015-04-09  Desktop    Male  home_page  search_page     NaN   \n3   190794  2015-02-18  Desktop  Female  home_page  search_page     NaN   \n4   537909  2015-01-15  Desktop    Male  home_page          NaN     NaN   \n\n  Confirmation  month  \n0          NaN      2  \n1          NaN      1  \n2          NaN      4  \n3          NaN      2  \n4          NaN      1  ",
                        "text/html": "<div>\n<style scoped>\n    .dataframe tbody tr th:only-of-type {\n        vertical-align: middle;\n    }\n\n    .dataframe tbody tr th {\n        vertical-align: top;\n    }\n\n    .dataframe thead th {\n        text-align: right;\n    }\n</style>\n<table border=\"1\" class=\"dataframe\">\n  <thead>\n    <tr style=\"text-align: right;\">\n      <th></th>\n      <th>user_id</th>\n      <th>date</th>\n      <th>device</th>\n      <th>sex</th>\n      <th>Home</th>\n      <th>Search</th>\n      <th>Payment</th>\n      <th>Confirmation</th>\n      <th>month</th>\n    </tr>\n  </thead>\n  <tbody>\n    <tr>\n      <th>0</th>\n      <td>450007</td>\n      <td>2015-02-28</td>\n      <td>Desktop</td>\n      <td>Female</td>\n      <td>home_page</td>\n      <td>NaN</td>\n      <td>NaN</td>\n      <td>NaN</td>\n      <td>2</td>\n    </tr>\n    <tr>\n      <th>1</th>\n      <td>756838</td>\n      <td>2015-01-13</td>\n      <td>Desktop</td>\n      <td>Male</td>\n      <td>home_page</td>\n      <td>NaN</td>\n      <td>NaN</td>\n      <td>NaN</td>\n      <td>1</td>\n    </tr>\n    <tr>\n      <th>2</th>\n      <td>568983</td>\n      <td>2015-04-09</td>\n      <td>Desktop</td>\n      <td>Male</td>\n      <td>home_page</td>\n      <td>search_page</td>\n      <td>NaN</td>\n      <td>NaN</td>\n      <td>4</td>\n    </tr>\n    <tr>\n      <th>3</th>\n      <td>190794</td>\n      <td>2015-02-18</td>\n      <td>Desktop</td>\n      <td>Female</td>\n      <td>home_page</td>\n      <td>search_page</td>\n      <td>NaN</td>\n      <td>NaN</td>\n      <td>2</td>\n    </tr>\n    <tr>\n      <th>4</th>\n      <td>537909</td>\n      <td>2015-01-15</td>\n      <td>Desktop</td>\n      <td>Male</td>\n      <td>home_page</td>\n      <td>NaN</td>\n      <td>NaN</td>\n      <td>NaN</td>\n      <td>1</td>\n    </tr>\n  </tbody>\n</table>\n</div>"
                    },
                    "metadata": {},
                    "execution_count": 216,
                    "output_type": "execute_result"
                }
            ],
            "execution_count": 216
        },
        {
            "cell_type": "code",
            "source": [
                "# change numerical month to name of month\n",
                "\n",
                "flow['month'] = flow['month'].apply(lambda x: calendar.month_abbr[x])\n",
                "\n",
                "flow.head()"
            ],
            "metadata": {
                "azdata_cell_guid": "f26c202f-a6ca-414a-8004-87ff28dd9c24"
            },
            "outputs": [
                {
                    "data": {
                        "text/plain": "   user_id        date   device     sex       Home       Search Payment  \\\n0   450007  2015-02-28  Desktop  Female  home_page          NaN     NaN   \n1   756838  2015-01-13  Desktop    Male  home_page          NaN     NaN   \n2   568983  2015-04-09  Desktop    Male  home_page  search_page     NaN   \n3   190794  2015-02-18  Desktop  Female  home_page  search_page     NaN   \n4   537909  2015-01-15  Desktop    Male  home_page          NaN     NaN   \n\n  Confirmation month  \n0          NaN   Feb  \n1          NaN   Jan  \n2          NaN   Apr  \n3          NaN   Feb  \n4          NaN   Jan  ",
                        "text/html": "<div>\n<style scoped>\n    .dataframe tbody tr th:only-of-type {\n        vertical-align: middle;\n    }\n\n    .dataframe tbody tr th {\n        vertical-align: top;\n    }\n\n    .dataframe thead th {\n        text-align: right;\n    }\n</style>\n<table border=\"1\" class=\"dataframe\">\n  <thead>\n    <tr style=\"text-align: right;\">\n      <th></th>\n      <th>user_id</th>\n      <th>date</th>\n      <th>device</th>\n      <th>sex</th>\n      <th>Home</th>\n      <th>Search</th>\n      <th>Payment</th>\n      <th>Confirmation</th>\n      <th>month</th>\n    </tr>\n  </thead>\n  <tbody>\n    <tr>\n      <th>0</th>\n      <td>450007</td>\n      <td>2015-02-28</td>\n      <td>Desktop</td>\n      <td>Female</td>\n      <td>home_page</td>\n      <td>NaN</td>\n      <td>NaN</td>\n      <td>NaN</td>\n      <td>Feb</td>\n    </tr>\n    <tr>\n      <th>1</th>\n      <td>756838</td>\n      <td>2015-01-13</td>\n      <td>Desktop</td>\n      <td>Male</td>\n      <td>home_page</td>\n      <td>NaN</td>\n      <td>NaN</td>\n      <td>NaN</td>\n      <td>Jan</td>\n    </tr>\n    <tr>\n      <th>2</th>\n      <td>568983</td>\n      <td>2015-04-09</td>\n      <td>Desktop</td>\n      <td>Male</td>\n      <td>home_page</td>\n      <td>search_page</td>\n      <td>NaN</td>\n      <td>NaN</td>\n      <td>Apr</td>\n    </tr>\n    <tr>\n      <th>3</th>\n      <td>190794</td>\n      <td>2015-02-18</td>\n      <td>Desktop</td>\n      <td>Female</td>\n      <td>home_page</td>\n      <td>search_page</td>\n      <td>NaN</td>\n      <td>NaN</td>\n      <td>Feb</td>\n    </tr>\n    <tr>\n      <th>4</th>\n      <td>537909</td>\n      <td>2015-01-15</td>\n      <td>Desktop</td>\n      <td>Male</td>\n      <td>home_page</td>\n      <td>NaN</td>\n      <td>NaN</td>\n      <td>NaN</td>\n      <td>Jan</td>\n    </tr>\n  </tbody>\n</table>\n</div>"
                    },
                    "metadata": {},
                    "execution_count": 217,
                    "output_type": "execute_result"
                }
            ],
            "execution_count": 217
        },
        {
            "cell_type": "markdown",
            "source": [
                "## **Churn Rate Across All Pages**"
            ],
            "metadata": {
                "azdata_cell_guid": "09541adb-0e83-4e32-a3b4-4ef43754a2ad"
            }
        },
        {
            "cell_type": "code",
            "source": [
                "# observe how churn occur in each month \n",
                "# function to create pivot table \n",
                "\n",
                "def month_page_pivot(page):\n",
                "    month_page_dist = flow.groupby(['month', page]).user_id.count().reset_index()\n",
                "    month_page_pivot = month_page_dist.pivot(index = page, columns = 'month', values = 'user_id')\n",
                "    return month_page_pivot"
            ],
            "metadata": {
                "azdata_cell_guid": "52467857-088b-4032-bcc7-4d83d3f50412"
            },
            "outputs": [],
            "execution_count": 218
        },
        {
            "cell_type": "code",
            "source": [
                "# applying above function to each page\n",
                "\n",
                "home_pivot = month_page_pivot('Home')\n",
                "search_pivot = month_page_pivot('Search')\n",
                "payment_pivot = month_page_pivot('Payment')\n",
                "confirmation_pivot = month_page_pivot('Confirmation')"
            ],
            "metadata": {
                "azdata_cell_guid": "4d696008-418d-4a7e-adf9-4e3027573f2a"
            },
            "outputs": [],
            "execution_count": 219
        },
        {
            "cell_type": "code",
            "source": [
                "# merging the pivot tables\n",
                "\n",
                "month_drop_dist = pd.concat([home_pivot, search_pivot, payment_pivot, confirmation_pivot], axis = 0)\n",
                "month_drop_dist.T"
            ],
            "metadata": {
                "azdata_cell_guid": "e3d840eb-42f7-4444-a265-9cf7626ca73f"
            },
            "outputs": [
                {
                    "data": {
                        "text/plain": "       home_page  search_page  payment_page  payment_confirmation_page\nmonth                                                                 \nApr        22600         9080           597                         46\nFeb        22600        13687          2412                        173\nJan        22600        13554          2390                        189\nMar        22600         8879           631                         44",
                        "text/html": "<div>\n<style scoped>\n    .dataframe tbody tr th:only-of-type {\n        vertical-align: middle;\n    }\n\n    .dataframe tbody tr th {\n        vertical-align: top;\n    }\n\n    .dataframe thead th {\n        text-align: right;\n    }\n</style>\n<table border=\"1\" class=\"dataframe\">\n  <thead>\n    <tr style=\"text-align: right;\">\n      <th></th>\n      <th>home_page</th>\n      <th>search_page</th>\n      <th>payment_page</th>\n      <th>payment_confirmation_page</th>\n    </tr>\n    <tr>\n      <th>month</th>\n      <th></th>\n      <th></th>\n      <th></th>\n      <th></th>\n    </tr>\n  </thead>\n  <tbody>\n    <tr>\n      <th>Apr</th>\n      <td>22600</td>\n      <td>9080</td>\n      <td>597</td>\n      <td>46</td>\n    </tr>\n    <tr>\n      <th>Feb</th>\n      <td>22600</td>\n      <td>13687</td>\n      <td>2412</td>\n      <td>173</td>\n    </tr>\n    <tr>\n      <th>Jan</th>\n      <td>22600</td>\n      <td>13554</td>\n      <td>2390</td>\n      <td>189</td>\n    </tr>\n    <tr>\n      <th>Mar</th>\n      <td>22600</td>\n      <td>8879</td>\n      <td>631</td>\n      <td>44</td>\n    </tr>\n  </tbody>\n</table>\n</div>"
                    },
                    "metadata": {},
                    "execution_count": 220,
                    "output_type": "execute_result"
                }
            ],
            "execution_count": 220
        },
        {
            "cell_type": "code",
            "source": [
                "# observe how churn occur according to devices in individual months\n",
                "\n",
                "def month_device_page(page):\n",
                "    month_device_page = flow.groupby(['month', 'device', page]).user_id.count().reset_index()\n",
                "    return month_device_page"
            ],
            "metadata": {
                "azdata_cell_guid": "c3ae09d5-0ae3-4762-8620-61f8ab06a65c",
                "tags": []
            },
            "outputs": [],
            "execution_count": 221
        },
        {
            "cell_type": "code",
            "source": [
                "month_device_page('Home')"
            ],
            "metadata": {
                "azdata_cell_guid": "ec0cbf2e-a9ca-41f7-8bd6-510953cf3d2b"
            },
            "outputs": [
                {
                    "data": {
                        "text/plain": "  month   device       Home  user_id\n0   Apr  Desktop  home_page    15050\n1   Apr   Mobile  home_page     7550\n2   Feb  Desktop  home_page    15050\n3   Feb   Mobile  home_page     7550\n4   Jan  Desktop  home_page    15050\n5   Jan   Mobile  home_page     7550\n6   Mar  Desktop  home_page    15050\n7   Mar   Mobile  home_page     7550",
                        "text/html": "<div>\n<style scoped>\n    .dataframe tbody tr th:only-of-type {\n        vertical-align: middle;\n    }\n\n    .dataframe tbody tr th {\n        vertical-align: top;\n    }\n\n    .dataframe thead th {\n        text-align: right;\n    }\n</style>\n<table border=\"1\" class=\"dataframe\">\n  <thead>\n    <tr style=\"text-align: right;\">\n      <th></th>\n      <th>month</th>\n      <th>device</th>\n      <th>Home</th>\n      <th>user_id</th>\n    </tr>\n  </thead>\n  <tbody>\n    <tr>\n      <th>0</th>\n      <td>Apr</td>\n      <td>Desktop</td>\n      <td>home_page</td>\n      <td>15050</td>\n    </tr>\n    <tr>\n      <th>1</th>\n      <td>Apr</td>\n      <td>Mobile</td>\n      <td>home_page</td>\n      <td>7550</td>\n    </tr>\n    <tr>\n      <th>2</th>\n      <td>Feb</td>\n      <td>Desktop</td>\n      <td>home_page</td>\n      <td>15050</td>\n    </tr>\n    <tr>\n      <th>3</th>\n      <td>Feb</td>\n      <td>Mobile</td>\n      <td>home_page</td>\n      <td>7550</td>\n    </tr>\n    <tr>\n      <th>4</th>\n      <td>Jan</td>\n      <td>Desktop</td>\n      <td>home_page</td>\n      <td>15050</td>\n    </tr>\n    <tr>\n      <th>5</th>\n      <td>Jan</td>\n      <td>Mobile</td>\n      <td>home_page</td>\n      <td>7550</td>\n    </tr>\n    <tr>\n      <th>6</th>\n      <td>Mar</td>\n      <td>Desktop</td>\n      <td>home_page</td>\n      <td>15050</td>\n    </tr>\n    <tr>\n      <th>7</th>\n      <td>Mar</td>\n      <td>Mobile</td>\n      <td>home_page</td>\n      <td>7550</td>\n    </tr>\n  </tbody>\n</table>\n</div>"
                    },
                    "metadata": {},
                    "execution_count": 222,
                    "output_type": "execute_result"
                }
            ],
            "execution_count": 222
        },
        {
            "cell_type": "code",
            "source": [
                "month_device_page('Search')"
            ],
            "metadata": {
                "azdata_cell_guid": "33529792-6478-4edc-9a67-021da31eeab0"
            },
            "outputs": [
                {
                    "data": {
                        "text/plain": "  month   device       Search  user_id\n0   Apr  Desktop  search_page     7569\n1   Apr   Mobile  search_page     1511\n2   Feb  Desktop  search_page     7632\n3   Feb   Mobile  search_page     6055\n4   Jan  Desktop  search_page     7529\n5   Jan   Mobile  search_page     6025\n6   Mar  Desktop  search_page     7370\n7   Mar   Mobile  search_page     1509",
                        "text/html": "<div>\n<style scoped>\n    .dataframe tbody tr th:only-of-type {\n        vertical-align: middle;\n    }\n\n    .dataframe tbody tr th {\n        vertical-align: top;\n    }\n\n    .dataframe thead th {\n        text-align: right;\n    }\n</style>\n<table border=\"1\" class=\"dataframe\">\n  <thead>\n    <tr style=\"text-align: right;\">\n      <th></th>\n      <th>month</th>\n      <th>device</th>\n      <th>Search</th>\n      <th>user_id</th>\n    </tr>\n  </thead>\n  <tbody>\n    <tr>\n      <th>0</th>\n      <td>Apr</td>\n      <td>Desktop</td>\n      <td>search_page</td>\n      <td>7569</td>\n    </tr>\n    <tr>\n      <th>1</th>\n      <td>Apr</td>\n      <td>Mobile</td>\n      <td>search_page</td>\n      <td>1511</td>\n    </tr>\n    <tr>\n      <th>2</th>\n      <td>Feb</td>\n      <td>Desktop</td>\n      <td>search_page</td>\n      <td>7632</td>\n    </tr>\n    <tr>\n      <th>3</th>\n      <td>Feb</td>\n      <td>Mobile</td>\n      <td>search_page</td>\n      <td>6055</td>\n    </tr>\n    <tr>\n      <th>4</th>\n      <td>Jan</td>\n      <td>Desktop</td>\n      <td>search_page</td>\n      <td>7529</td>\n    </tr>\n    <tr>\n      <th>5</th>\n      <td>Jan</td>\n      <td>Mobile</td>\n      <td>search_page</td>\n      <td>6025</td>\n    </tr>\n    <tr>\n      <th>6</th>\n      <td>Mar</td>\n      <td>Desktop</td>\n      <td>search_page</td>\n      <td>7370</td>\n    </tr>\n    <tr>\n      <th>7</th>\n      <td>Mar</td>\n      <td>Mobile</td>\n      <td>search_page</td>\n      <td>1509</td>\n    </tr>\n  </tbody>\n</table>\n</div>"
                    },
                    "metadata": {},
                    "execution_count": 223,
                    "output_type": "execute_result"
                }
            ],
            "execution_count": 223
        },
        {
            "cell_type": "code",
            "source": [
                "month_device_page('Payment')"
            ],
            "metadata": {
                "azdata_cell_guid": "cb31bccb-853f-4987-b83f-9cf60fc3f8ee"
            },
            "outputs": [
                {
                    "data": {
                        "text/plain": "  month   device       Payment  user_id\n0   Apr  Desktop  payment_page      302\n1   Apr   Mobile  payment_page      295\n2   Feb  Desktop  payment_page     1191\n3   Feb   Mobile  payment_page     1221\n4   Jan  Desktop  payment_page     1221\n5   Jan   Mobile  payment_page     1169\n6   Mar  Desktop  payment_page      296\n7   Mar   Mobile  payment_page      335",
                        "text/html": "<div>\n<style scoped>\n    .dataframe tbody tr th:only-of-type {\n        vertical-align: middle;\n    }\n\n    .dataframe tbody tr th {\n        vertical-align: top;\n    }\n\n    .dataframe thead th {\n        text-align: right;\n    }\n</style>\n<table border=\"1\" class=\"dataframe\">\n  <thead>\n    <tr style=\"text-align: right;\">\n      <th></th>\n      <th>month</th>\n      <th>device</th>\n      <th>Payment</th>\n      <th>user_id</th>\n    </tr>\n  </thead>\n  <tbody>\n    <tr>\n      <th>0</th>\n      <td>Apr</td>\n      <td>Desktop</td>\n      <td>payment_page</td>\n      <td>302</td>\n    </tr>\n    <tr>\n      <th>1</th>\n      <td>Apr</td>\n      <td>Mobile</td>\n      <td>payment_page</td>\n      <td>295</td>\n    </tr>\n    <tr>\n      <th>2</th>\n      <td>Feb</td>\n      <td>Desktop</td>\n      <td>payment_page</td>\n      <td>1191</td>\n    </tr>\n    <tr>\n      <th>3</th>\n      <td>Feb</td>\n      <td>Mobile</td>\n      <td>payment_page</td>\n      <td>1221</td>\n    </tr>\n    <tr>\n      <th>4</th>\n      <td>Jan</td>\n      <td>Desktop</td>\n      <td>payment_page</td>\n      <td>1221</td>\n    </tr>\n    <tr>\n      <th>5</th>\n      <td>Jan</td>\n      <td>Mobile</td>\n      <td>payment_page</td>\n      <td>1169</td>\n    </tr>\n    <tr>\n      <th>6</th>\n      <td>Mar</td>\n      <td>Desktop</td>\n      <td>payment_page</td>\n      <td>296</td>\n    </tr>\n    <tr>\n      <th>7</th>\n      <td>Mar</td>\n      <td>Mobile</td>\n      <td>payment_page</td>\n      <td>335</td>\n    </tr>\n  </tbody>\n</table>\n</div>"
                    },
                    "metadata": {},
                    "execution_count": 224,
                    "output_type": "execute_result"
                }
            ],
            "execution_count": 224
        },
        {
            "cell_type": "code",
            "source": [
                "month_device_page('Confirmation')"
            ],
            "metadata": {
                "azdata_cell_guid": "2806f683-c002-4d54-9b1a-69778427e77c"
            },
            "outputs": [
                {
                    "data": {
                        "text/plain": "  month   device               Confirmation  user_id\n0   Apr  Desktop  payment_confirmation_page       22\n1   Apr   Mobile  payment_confirmation_page       24\n2   Feb  Desktop  payment_confirmation_page       54\n3   Feb   Mobile  payment_confirmation_page      119\n4   Jan  Desktop  payment_confirmation_page       60\n5   Jan   Mobile  payment_confirmation_page      129\n6   Mar  Desktop  payment_confirmation_page       14\n7   Mar   Mobile  payment_confirmation_page       30",
                        "text/html": "<div>\n<style scoped>\n    .dataframe tbody tr th:only-of-type {\n        vertical-align: middle;\n    }\n\n    .dataframe tbody tr th {\n        vertical-align: top;\n    }\n\n    .dataframe thead th {\n        text-align: right;\n    }\n</style>\n<table border=\"1\" class=\"dataframe\">\n  <thead>\n    <tr style=\"text-align: right;\">\n      <th></th>\n      <th>month</th>\n      <th>device</th>\n      <th>Confirmation</th>\n      <th>user_id</th>\n    </tr>\n  </thead>\n  <tbody>\n    <tr>\n      <th>0</th>\n      <td>Apr</td>\n      <td>Desktop</td>\n      <td>payment_confirmation_page</td>\n      <td>22</td>\n    </tr>\n    <tr>\n      <th>1</th>\n      <td>Apr</td>\n      <td>Mobile</td>\n      <td>payment_confirmation_page</td>\n      <td>24</td>\n    </tr>\n    <tr>\n      <th>2</th>\n      <td>Feb</td>\n      <td>Desktop</td>\n      <td>payment_confirmation_page</td>\n      <td>54</td>\n    </tr>\n    <tr>\n      <th>3</th>\n      <td>Feb</td>\n      <td>Mobile</td>\n      <td>payment_confirmation_page</td>\n      <td>119</td>\n    </tr>\n    <tr>\n      <th>4</th>\n      <td>Jan</td>\n      <td>Desktop</td>\n      <td>payment_confirmation_page</td>\n      <td>60</td>\n    </tr>\n    <tr>\n      <th>5</th>\n      <td>Jan</td>\n      <td>Mobile</td>\n      <td>payment_confirmation_page</td>\n      <td>129</td>\n    </tr>\n    <tr>\n      <th>6</th>\n      <td>Mar</td>\n      <td>Desktop</td>\n      <td>payment_confirmation_page</td>\n      <td>14</td>\n    </tr>\n    <tr>\n      <th>7</th>\n      <td>Mar</td>\n      <td>Mobile</td>\n      <td>payment_confirmation_page</td>\n      <td>30</td>\n    </tr>\n  </tbody>\n</table>\n</div>"
                    },
                    "metadata": {},
                    "execution_count": 225,
                    "output_type": "execute_result"
                }
            ],
            "execution_count": 225
        },
        {
            "cell_type": "code",
            "source": [
                "flow.to_csv('funnel.csv', index=False)"
            ],
            "metadata": {
                "azdata_cell_guid": "5b64e853-b5de-4eb5-9c61-31014b972b69"
            },
            "outputs": [],
            "execution_count": 226
        }
    ]
}